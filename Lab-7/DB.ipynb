{
 "cells": [
  {
   "cell_type": "code",
   "execution_count": 1,
   "metadata": {},
   "outputs": [],
   "source": [
    "import sqlite3\n",
    "import pandas as pd\n",
    "import numpy as np"
   ]
  },
  {
   "cell_type": "code",
   "execution_count": 2,
   "metadata": {},
   "outputs": [],
   "source": [
    "conn = sqlite3.connect('data.db')\n",
    "c = conn.cursor()"
   ]
  },
  {
   "cell_type": "code",
   "execution_count": 3,
   "metadata": {},
   "outputs": [],
   "source": [
    "c.execute('SELECT * FROM userstable')\n",
    "data = c.fetchall()"
   ]
  },
  {
   "cell_type": "code",
   "execution_count": 4,
   "metadata": {},
   "outputs": [
    {
     "data": {
      "text/html": [
       "<div>\n",
       "<style scoped>\n",
       "    .dataframe tbody tr th:only-of-type {\n",
       "        vertical-align: middle;\n",
       "    }\n",
       "\n",
       "    .dataframe tbody tr th {\n",
       "        vertical-align: top;\n",
       "    }\n",
       "\n",
       "    .dataframe thead th {\n",
       "        text-align: right;\n",
       "    }\n",
       "</style>\n",
       "<table border=\"1\" class=\"dataframe\">\n",
       "  <thead>\n",
       "    <tr style=\"text-align: right;\">\n",
       "      <th></th>\n",
       "      <th>Username</th>\n",
       "      <th>Password</th>\n",
       "    </tr>\n",
       "  </thead>\n",
       "  <tbody>\n",
       "    <tr>\n",
       "      <th>0</th>\n",
       "      <td>ronanmarkdsouza</td>\n",
       "      <td>bfdb8b0bd00f371203c44f8f6cded27ccfbc25f4e25b74...</td>\n",
       "    </tr>\n",
       "    <tr>\n",
       "      <th>1</th>\n",
       "      <td>ronan</td>\n",
       "      <td>c2019a34914fe9a9a05d6d024a6b9cb1cec979416a76d0...</td>\n",
       "    </tr>\n",
       "    <tr>\n",
       "      <th>2</th>\n",
       "      <td>sahil</td>\n",
       "      <td>c0b1eac6bb604a5648a2b165f824467e3d1b04f8e682a8...</td>\n",
       "    </tr>\n",
       "    <tr>\n",
       "      <th>3</th>\n",
       "      <td>ronan</td>\n",
       "      <td>c2019a34914fe9a9a05d6d024a6b9cb1cec979416a76d0...</td>\n",
       "    </tr>\n",
       "    <tr>\n",
       "      <th>4</th>\n",
       "      <td>ronan</td>\n",
       "      <td>c2019a34914fe9a9a05d6d024a6b9cb1cec979416a76d0...</td>\n",
       "    </tr>\n",
       "    <tr>\n",
       "      <th>5</th>\n",
       "      <td>ronan</td>\n",
       "      <td>c2019a34914fe9a9a05d6d024a6b9cb1cec979416a76d0...</td>\n",
       "    </tr>\n",
       "    <tr>\n",
       "      <th>6</th>\n",
       "      <td>haneeth</td>\n",
       "      <td>0c7de643b85356fbaa078ef9fa471c2a72b39837e4cfba...</td>\n",
       "    </tr>\n",
       "  </tbody>\n",
       "</table>\n",
       "</div>"
      ],
      "text/plain": [
       "          Username                                           Password\n",
       "0  ronanmarkdsouza  bfdb8b0bd00f371203c44f8f6cded27ccfbc25f4e25b74...\n",
       "1            ronan  c2019a34914fe9a9a05d6d024a6b9cb1cec979416a76d0...\n",
       "2            sahil  c0b1eac6bb604a5648a2b165f824467e3d1b04f8e682a8...\n",
       "3            ronan  c2019a34914fe9a9a05d6d024a6b9cb1cec979416a76d0...\n",
       "4            ronan  c2019a34914fe9a9a05d6d024a6b9cb1cec979416a76d0...\n",
       "5            ronan  c2019a34914fe9a9a05d6d024a6b9cb1cec979416a76d0...\n",
       "6          haneeth  0c7de643b85356fbaa078ef9fa471c2a72b39837e4cfba..."
      ]
     },
     "execution_count": 4,
     "metadata": {},
     "output_type": "execute_result"
    }
   ],
   "source": [
    "df = pd.DataFrame(data=data, columns=[\"Username\",\"Password\"])\n",
    "df"
   ]
  },
  {
   "cell_type": "code",
   "execution_count": null,
   "metadata": {},
   "outputs": [],
   "source": []
  }
 ],
 "metadata": {
  "interpreter": {
   "hash": "d04cd9228117432a924b246c7dbe2f5ced4aad9fb8d5c4e45a64af011d1c057d"
  },
  "kernelspec": {
   "display_name": "Python 3.8.10 ('base')",
   "language": "python",
   "name": "python3"
  },
  "language_info": {
   "codemirror_mode": {
    "name": "ipython",
    "version": 3
   },
   "file_extension": ".py",
   "mimetype": "text/x-python",
   "name": "python",
   "nbconvert_exporter": "python",
   "pygments_lexer": "ipython3",
   "version": "3.8.10"
  },
  "orig_nbformat": 4
 },
 "nbformat": 4,
 "nbformat_minor": 2
}
