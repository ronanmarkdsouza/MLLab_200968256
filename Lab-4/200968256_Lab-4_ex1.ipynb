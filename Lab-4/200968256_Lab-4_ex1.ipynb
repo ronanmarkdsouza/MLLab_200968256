{
  "cells": [
    {
      "cell_type": "markdown",
      "metadata": {
        "id": "v3gSSdFv-dVc"
      },
      "source": [
        "# Lab-4:\n",
        "## Exercise-1:"
      ]
    },
    {
      "cell_type": "markdown",
      "metadata": {
        "id": "m6zhl77s-dVi"
      },
      "source": [
        "> Importing the required libraries:"
      ]
    },
    {
      "cell_type": "code",
      "execution_count": 6,
      "metadata": {
        "id": "9BUlAEr--dVj"
      },
      "outputs": [],
      "source": [
        "import pandas as pd\n",
        "import numpy as np\n",
        "import matplotlib.pyplot as plt\n",
        "import seaborn as sb\n",
        "from sklearn.tree import DecisionTreeClassifier\n",
        "from sklearn.model_selection import GridSearchCV, train_test_split\n",
        "from sklearn.metrics import roc_auc_score, roc_curve, accuracy_score\n",
        "from sklearn import tree\n",
        "import graphviz\n",
        "sb.set_theme()"
      ]
    },
    {
      "cell_type": "code",
      "execution_count": 7,
      "metadata": {
        "colab": {
          "base_uri": "https://localhost:8080/",
          "height": 270
        },
        "id": "76wtFsAT-dVm",
        "outputId": "208a75b7-435a-4a9b-840b-dddd5ecad7ac"
      },
      "outputs": [
        {
          "data": {
            "text/html": [
              "\n",
              "  <div id=\"df-f08bf4f7-7aab-4c23-882a-9bcfd41fd22e\">\n",
              "    <div class=\"colab-df-container\">\n",
              "      <div>\n",
              "<style scoped>\n",
              "    .dataframe tbody tr th:only-of-type {\n",
              "        vertical-align: middle;\n",
              "    }\n",
              "\n",
              "    .dataframe tbody tr th {\n",
              "        vertical-align: top;\n",
              "    }\n",
              "\n",
              "    .dataframe thead th {\n",
              "        text-align: right;\n",
              "    }\n",
              "</style>\n",
              "<table border=\"1\" class=\"dataframe\">\n",
              "  <thead>\n",
              "    <tr style=\"text-align: right;\">\n",
              "      <th></th>\n",
              "      <th>checkin_acc</th>\n",
              "      <th>duration</th>\n",
              "      <th>credit_history</th>\n",
              "      <th>amount</th>\n",
              "      <th>savings_acc</th>\n",
              "      <th>present_emp_since</th>\n",
              "      <th>inst_rate</th>\n",
              "      <th>personal_status</th>\n",
              "      <th>residing_since</th>\n",
              "      <th>age</th>\n",
              "      <th>inst_plans</th>\n",
              "      <th>num_credits</th>\n",
              "      <th>job</th>\n",
              "      <th>status</th>\n",
              "    </tr>\n",
              "  </thead>\n",
              "  <tbody>\n",
              "    <tr>\n",
              "      <th>0</th>\n",
              "      <td>A11</td>\n",
              "      <td>6</td>\n",
              "      <td>A34</td>\n",
              "      <td>1169</td>\n",
              "      <td>A65</td>\n",
              "      <td>A75</td>\n",
              "      <td>4</td>\n",
              "      <td>A93</td>\n",
              "      <td>4</td>\n",
              "      <td>67</td>\n",
              "      <td>A143</td>\n",
              "      <td>2</td>\n",
              "      <td>A173</td>\n",
              "      <td>0</td>\n",
              "    </tr>\n",
              "    <tr>\n",
              "      <th>1</th>\n",
              "      <td>A12</td>\n",
              "      <td>48</td>\n",
              "      <td>A32</td>\n",
              "      <td>5951</td>\n",
              "      <td>A61</td>\n",
              "      <td>A73</td>\n",
              "      <td>2</td>\n",
              "      <td>A92</td>\n",
              "      <td>2</td>\n",
              "      <td>22</td>\n",
              "      <td>A143</td>\n",
              "      <td>1</td>\n",
              "      <td>A173</td>\n",
              "      <td>1</td>\n",
              "    </tr>\n",
              "    <tr>\n",
              "      <th>2</th>\n",
              "      <td>A14</td>\n",
              "      <td>12</td>\n",
              "      <td>A34</td>\n",
              "      <td>2096</td>\n",
              "      <td>A61</td>\n",
              "      <td>A74</td>\n",
              "      <td>2</td>\n",
              "      <td>A93</td>\n",
              "      <td>3</td>\n",
              "      <td>49</td>\n",
              "      <td>A143</td>\n",
              "      <td>1</td>\n",
              "      <td>A172</td>\n",
              "      <td>0</td>\n",
              "    </tr>\n",
              "    <tr>\n",
              "      <th>3</th>\n",
              "      <td>A11</td>\n",
              "      <td>42</td>\n",
              "      <td>A32</td>\n",
              "      <td>7882</td>\n",
              "      <td>A61</td>\n",
              "      <td>A74</td>\n",
              "      <td>2</td>\n",
              "      <td>A93</td>\n",
              "      <td>4</td>\n",
              "      <td>45</td>\n",
              "      <td>A143</td>\n",
              "      <td>1</td>\n",
              "      <td>A173</td>\n",
              "      <td>0</td>\n",
              "    </tr>\n",
              "    <tr>\n",
              "      <th>4</th>\n",
              "      <td>A11</td>\n",
              "      <td>24</td>\n",
              "      <td>A33</td>\n",
              "      <td>4870</td>\n",
              "      <td>A61</td>\n",
              "      <td>A73</td>\n",
              "      <td>3</td>\n",
              "      <td>A93</td>\n",
              "      <td>4</td>\n",
              "      <td>53</td>\n",
              "      <td>A143</td>\n",
              "      <td>2</td>\n",
              "      <td>A173</td>\n",
              "      <td>1</td>\n",
              "    </tr>\n",
              "  </tbody>\n",
              "</table>\n",
              "</div>\n",
              "      <button class=\"colab-df-convert\" onclick=\"convertToInteractive('df-f08bf4f7-7aab-4c23-882a-9bcfd41fd22e')\"\n",
              "              title=\"Convert this dataframe to an interactive table.\"\n",
              "              style=\"display:none;\">\n",
              "        \n",
              "  <svg xmlns=\"http://www.w3.org/2000/svg\" height=\"24px\"viewBox=\"0 0 24 24\"\n",
              "       width=\"24px\">\n",
              "    <path d=\"M0 0h24v24H0V0z\" fill=\"none\"/>\n",
              "    <path d=\"M18.56 5.44l.94 2.06.94-2.06 2.06-.94-2.06-.94-.94-2.06-.94 2.06-2.06.94zm-11 1L8.5 8.5l.94-2.06 2.06-.94-2.06-.94L8.5 2.5l-.94 2.06-2.06.94zm10 10l.94 2.06.94-2.06 2.06-.94-2.06-.94-.94-2.06-.94 2.06-2.06.94z\"/><path d=\"M17.41 7.96l-1.37-1.37c-.4-.4-.92-.59-1.43-.59-.52 0-1.04.2-1.43.59L10.3 9.45l-7.72 7.72c-.78.78-.78 2.05 0 2.83L4 21.41c.39.39.9.59 1.41.59.51 0 1.02-.2 1.41-.59l7.78-7.78 2.81-2.81c.8-.78.8-2.07 0-2.86zM5.41 20L4 18.59l7.72-7.72 1.47 1.35L5.41 20z\"/>\n",
              "  </svg>\n",
              "      </button>\n",
              "      \n",
              "  <style>\n",
              "    .colab-df-container {\n",
              "      display:flex;\n",
              "      flex-wrap:wrap;\n",
              "      gap: 12px;\n",
              "    }\n",
              "\n",
              "    .colab-df-convert {\n",
              "      background-color: #E8F0FE;\n",
              "      border: none;\n",
              "      border-radius: 50%;\n",
              "      cursor: pointer;\n",
              "      display: none;\n",
              "      fill: #1967D2;\n",
              "      height: 32px;\n",
              "      padding: 0 0 0 0;\n",
              "      width: 32px;\n",
              "    }\n",
              "\n",
              "    .colab-df-convert:hover {\n",
              "      background-color: #E2EBFA;\n",
              "      box-shadow: 0px 1px 2px rgba(60, 64, 67, 0.3), 0px 1px 3px 1px rgba(60, 64, 67, 0.15);\n",
              "      fill: #174EA6;\n",
              "    }\n",
              "\n",
              "    [theme=dark] .colab-df-convert {\n",
              "      background-color: #3B4455;\n",
              "      fill: #D2E3FC;\n",
              "    }\n",
              "\n",
              "    [theme=dark] .colab-df-convert:hover {\n",
              "      background-color: #434B5C;\n",
              "      box-shadow: 0px 1px 3px 1px rgba(0, 0, 0, 0.15);\n",
              "      filter: drop-shadow(0px 1px 2px rgba(0, 0, 0, 0.3));\n",
              "      fill: #FFFFFF;\n",
              "    }\n",
              "  </style>\n",
              "\n",
              "      <script>\n",
              "        const buttonEl =\n",
              "          document.querySelector('#df-f08bf4f7-7aab-4c23-882a-9bcfd41fd22e button.colab-df-convert');\n",
              "        buttonEl.style.display =\n",
              "          google.colab.kernel.accessAllowed ? 'block' : 'none';\n",
              "\n",
              "        async function convertToInteractive(key) {\n",
              "          const element = document.querySelector('#df-f08bf4f7-7aab-4c23-882a-9bcfd41fd22e');\n",
              "          const dataTable =\n",
              "            await google.colab.kernel.invokeFunction('convertToInteractive',\n",
              "                                                     [key], {});\n",
              "          if (!dataTable) return;\n",
              "\n",
              "          const docLinkHtml = 'Like what you see? Visit the ' +\n",
              "            '<a target=\"_blank\" href=https://colab.research.google.com/notebooks/data_table.ipynb>data table notebook</a>'\n",
              "            + ' to learn more about interactive tables.';\n",
              "          element.innerHTML = '';\n",
              "          dataTable['output_type'] = 'display_data';\n",
              "          await google.colab.output.renderOutput(dataTable, element);\n",
              "          const docLink = document.createElement('div');\n",
              "          docLink.innerHTML = docLinkHtml;\n",
              "          element.appendChild(docLink);\n",
              "        }\n",
              "      </script>\n",
              "    </div>\n",
              "  </div>\n",
              "  "
            ],
            "text/plain": [
              "  checkin_acc  duration credit_history  amount savings_acc present_emp_since  \\\n",
              "0         A11         6            A34    1169         A65               A75   \n",
              "1         A12        48            A32    5951         A61               A73   \n",
              "2         A14        12            A34    2096         A61               A74   \n",
              "3         A11        42            A32    7882         A61               A74   \n",
              "4         A11        24            A33    4870         A61               A73   \n",
              "\n",
              "   inst_rate personal_status  residing_since  age inst_plans  num_credits  \\\n",
              "0          4             A93               4   67       A143            2   \n",
              "1          2             A92               2   22       A143            1   \n",
              "2          2             A93               3   49       A143            1   \n",
              "3          2             A93               4   45       A143            1   \n",
              "4          3             A93               4   53       A143            2   \n",
              "\n",
              "    job  status  \n",
              "0  A173       0  \n",
              "1  A173       1  \n",
              "2  A172       0  \n",
              "3  A173       0  \n",
              "4  A173       1  "
            ]
          },
          "execution_count": 7,
          "metadata": {},
          "output_type": "execute_result"
        }
      ],
      "source": [
        "data = pd.read_csv('/German Credit Data.csv')\n",
        "data.head()"
      ]
    },
    {
      "cell_type": "code",
      "execution_count": 8,
      "metadata": {
        "colab": {
          "base_uri": "https://localhost:8080/"
        },
        "id": "6WsTa26W-dVm",
        "outputId": "78906337-b5e6-4804-9794-5ec99dd71693"
      },
      "outputs": [
        {
          "data": {
            "text/plain": [
              "checkin_acc          0\n",
              "duration             0\n",
              "credit_history       0\n",
              "amount               0\n",
              "savings_acc          0\n",
              "present_emp_since    0\n",
              "inst_rate            0\n",
              "personal_status      0\n",
              "residing_since       0\n",
              "age                  0\n",
              "inst_plans           0\n",
              "num_credits          0\n",
              "job                  0\n",
              "status               0\n",
              "dtype: int64"
            ]
          },
          "execution_count": 8,
          "metadata": {},
          "output_type": "execute_result"
        }
      ],
      "source": [
        "data.isna().sum()"
      ]
    },
    {
      "cell_type": "markdown",
      "metadata": {
        "id": "w7rkdkyq-dVn"
      },
      "source": [
        "#### Question-1: Use the German credit rating dataset “German Credit Data.csv” , Decision tree classifier  to  predict  good  or  bad  credit.  Use  “sklearn.model_selection”    and  GridSearchCV  to  search  the  hyperparameter  values  and  report  the  most  optimal one. Configure the grid search to search for optimal parameters: <br>• Splitting criteria: gini or entropy.</br> <br>• Maximum depth of decision tree ranging from 2 to 10.</br> <br> • The searching of optimal parameter will be validated using 10-fold cross validation and the most optimal parameter will be chosen based on ROC AUC score.</br>"
      ]
    },
    {
      "cell_type": "code",
      "execution_count": 9,
      "metadata": {
        "colab": {
          "base_uri": "https://localhost:8080/",
          "height": 299
        },
        "id": "uAw1L0dT-dVo",
        "outputId": "f75d0fca-c3fd-4f07-a6b1-183bfb969d79"
      },
      "outputs": [
        {
          "data": {
            "text/html": [
              "\n",
              "  <div id=\"df-a558ef6e-f4d8-498c-80c3-d697f62eb238\">\n",
              "    <div class=\"colab-df-container\">\n",
              "      <div>\n",
              "<style scoped>\n",
              "    .dataframe tbody tr th:only-of-type {\n",
              "        vertical-align: middle;\n",
              "    }\n",
              "\n",
              "    .dataframe tbody tr th {\n",
              "        vertical-align: top;\n",
              "    }\n",
              "\n",
              "    .dataframe thead th {\n",
              "        text-align: right;\n",
              "    }\n",
              "</style>\n",
              "<table border=\"1\" class=\"dataframe\">\n",
              "  <thead>\n",
              "    <tr style=\"text-align: right;\">\n",
              "      <th></th>\n",
              "      <th>duration</th>\n",
              "      <th>amount</th>\n",
              "      <th>inst_rate</th>\n",
              "      <th>residing_since</th>\n",
              "      <th>age</th>\n",
              "      <th>num_credits</th>\n",
              "      <th>status</th>\n",
              "      <th>checkin_acc_A11</th>\n",
              "      <th>checkin_acc_A12</th>\n",
              "      <th>checkin_acc_A13</th>\n",
              "      <th>...</th>\n",
              "      <th>personal_status_A92</th>\n",
              "      <th>personal_status_A93</th>\n",
              "      <th>personal_status_A94</th>\n",
              "      <th>inst_plans_A141</th>\n",
              "      <th>inst_plans_A142</th>\n",
              "      <th>inst_plans_A143</th>\n",
              "      <th>job_A171</th>\n",
              "      <th>job_A172</th>\n",
              "      <th>job_A173</th>\n",
              "      <th>job_A174</th>\n",
              "    </tr>\n",
              "  </thead>\n",
              "  <tbody>\n",
              "    <tr>\n",
              "      <th>0</th>\n",
              "      <td>6</td>\n",
              "      <td>1169</td>\n",
              "      <td>4</td>\n",
              "      <td>4</td>\n",
              "      <td>67</td>\n",
              "      <td>2</td>\n",
              "      <td>0</td>\n",
              "      <td>1</td>\n",
              "      <td>0</td>\n",
              "      <td>0</td>\n",
              "      <td>...</td>\n",
              "      <td>0</td>\n",
              "      <td>1</td>\n",
              "      <td>0</td>\n",
              "      <td>0</td>\n",
              "      <td>0</td>\n",
              "      <td>1</td>\n",
              "      <td>0</td>\n",
              "      <td>0</td>\n",
              "      <td>1</td>\n",
              "      <td>0</td>\n",
              "    </tr>\n",
              "    <tr>\n",
              "      <th>1</th>\n",
              "      <td>48</td>\n",
              "      <td>5951</td>\n",
              "      <td>2</td>\n",
              "      <td>2</td>\n",
              "      <td>22</td>\n",
              "      <td>1</td>\n",
              "      <td>1</td>\n",
              "      <td>0</td>\n",
              "      <td>1</td>\n",
              "      <td>0</td>\n",
              "      <td>...</td>\n",
              "      <td>1</td>\n",
              "      <td>0</td>\n",
              "      <td>0</td>\n",
              "      <td>0</td>\n",
              "      <td>0</td>\n",
              "      <td>1</td>\n",
              "      <td>0</td>\n",
              "      <td>0</td>\n",
              "      <td>1</td>\n",
              "      <td>0</td>\n",
              "    </tr>\n",
              "    <tr>\n",
              "      <th>2</th>\n",
              "      <td>12</td>\n",
              "      <td>2096</td>\n",
              "      <td>2</td>\n",
              "      <td>3</td>\n",
              "      <td>49</td>\n",
              "      <td>1</td>\n",
              "      <td>0</td>\n",
              "      <td>0</td>\n",
              "      <td>0</td>\n",
              "      <td>0</td>\n",
              "      <td>...</td>\n",
              "      <td>0</td>\n",
              "      <td>1</td>\n",
              "      <td>0</td>\n",
              "      <td>0</td>\n",
              "      <td>0</td>\n",
              "      <td>1</td>\n",
              "      <td>0</td>\n",
              "      <td>1</td>\n",
              "      <td>0</td>\n",
              "      <td>0</td>\n",
              "    </tr>\n",
              "    <tr>\n",
              "      <th>3</th>\n",
              "      <td>42</td>\n",
              "      <td>7882</td>\n",
              "      <td>2</td>\n",
              "      <td>4</td>\n",
              "      <td>45</td>\n",
              "      <td>1</td>\n",
              "      <td>0</td>\n",
              "      <td>1</td>\n",
              "      <td>0</td>\n",
              "      <td>0</td>\n",
              "      <td>...</td>\n",
              "      <td>0</td>\n",
              "      <td>1</td>\n",
              "      <td>0</td>\n",
              "      <td>0</td>\n",
              "      <td>0</td>\n",
              "      <td>1</td>\n",
              "      <td>0</td>\n",
              "      <td>0</td>\n",
              "      <td>1</td>\n",
              "      <td>0</td>\n",
              "    </tr>\n",
              "    <tr>\n",
              "      <th>4</th>\n",
              "      <td>24</td>\n",
              "      <td>4870</td>\n",
              "      <td>3</td>\n",
              "      <td>4</td>\n",
              "      <td>53</td>\n",
              "      <td>2</td>\n",
              "      <td>1</td>\n",
              "      <td>1</td>\n",
              "      <td>0</td>\n",
              "      <td>0</td>\n",
              "      <td>...</td>\n",
              "      <td>0</td>\n",
              "      <td>1</td>\n",
              "      <td>0</td>\n",
              "      <td>0</td>\n",
              "      <td>0</td>\n",
              "      <td>1</td>\n",
              "      <td>0</td>\n",
              "      <td>0</td>\n",
              "      <td>1</td>\n",
              "      <td>0</td>\n",
              "    </tr>\n",
              "  </tbody>\n",
              "</table>\n",
              "<p>5 rows × 37 columns</p>\n",
              "</div>\n",
              "      <button class=\"colab-df-convert\" onclick=\"convertToInteractive('df-a558ef6e-f4d8-498c-80c3-d697f62eb238')\"\n",
              "              title=\"Convert this dataframe to an interactive table.\"\n",
              "              style=\"display:none;\">\n",
              "        \n",
              "  <svg xmlns=\"http://www.w3.org/2000/svg\" height=\"24px\"viewBox=\"0 0 24 24\"\n",
              "       width=\"24px\">\n",
              "    <path d=\"M0 0h24v24H0V0z\" fill=\"none\"/>\n",
              "    <path d=\"M18.56 5.44l.94 2.06.94-2.06 2.06-.94-2.06-.94-.94-2.06-.94 2.06-2.06.94zm-11 1L8.5 8.5l.94-2.06 2.06-.94-2.06-.94L8.5 2.5l-.94 2.06-2.06.94zm10 10l.94 2.06.94-2.06 2.06-.94-2.06-.94-.94-2.06-.94 2.06-2.06.94z\"/><path d=\"M17.41 7.96l-1.37-1.37c-.4-.4-.92-.59-1.43-.59-.52 0-1.04.2-1.43.59L10.3 9.45l-7.72 7.72c-.78.78-.78 2.05 0 2.83L4 21.41c.39.39.9.59 1.41.59.51 0 1.02-.2 1.41-.59l7.78-7.78 2.81-2.81c.8-.78.8-2.07 0-2.86zM5.41 20L4 18.59l7.72-7.72 1.47 1.35L5.41 20z\"/>\n",
              "  </svg>\n",
              "      </button>\n",
              "      \n",
              "  <style>\n",
              "    .colab-df-container {\n",
              "      display:flex;\n",
              "      flex-wrap:wrap;\n",
              "      gap: 12px;\n",
              "    }\n",
              "\n",
              "    .colab-df-convert {\n",
              "      background-color: #E8F0FE;\n",
              "      border: none;\n",
              "      border-radius: 50%;\n",
              "      cursor: pointer;\n",
              "      display: none;\n",
              "      fill: #1967D2;\n",
              "      height: 32px;\n",
              "      padding: 0 0 0 0;\n",
              "      width: 32px;\n",
              "    }\n",
              "\n",
              "    .colab-df-convert:hover {\n",
              "      background-color: #E2EBFA;\n",
              "      box-shadow: 0px 1px 2px rgba(60, 64, 67, 0.3), 0px 1px 3px 1px rgba(60, 64, 67, 0.15);\n",
              "      fill: #174EA6;\n",
              "    }\n",
              "\n",
              "    [theme=dark] .colab-df-convert {\n",
              "      background-color: #3B4455;\n",
              "      fill: #D2E3FC;\n",
              "    }\n",
              "\n",
              "    [theme=dark] .colab-df-convert:hover {\n",
              "      background-color: #434B5C;\n",
              "      box-shadow: 0px 1px 3px 1px rgba(0, 0, 0, 0.15);\n",
              "      filter: drop-shadow(0px 1px 2px rgba(0, 0, 0, 0.3));\n",
              "      fill: #FFFFFF;\n",
              "    }\n",
              "  </style>\n",
              "\n",
              "      <script>\n",
              "        const buttonEl =\n",
              "          document.querySelector('#df-a558ef6e-f4d8-498c-80c3-d697f62eb238 button.colab-df-convert');\n",
              "        buttonEl.style.display =\n",
              "          google.colab.kernel.accessAllowed ? 'block' : 'none';\n",
              "\n",
              "        async function convertToInteractive(key) {\n",
              "          const element = document.querySelector('#df-a558ef6e-f4d8-498c-80c3-d697f62eb238');\n",
              "          const dataTable =\n",
              "            await google.colab.kernel.invokeFunction('convertToInteractive',\n",
              "                                                     [key], {});\n",
              "          if (!dataTable) return;\n",
              "\n",
              "          const docLinkHtml = 'Like what you see? Visit the ' +\n",
              "            '<a target=\"_blank\" href=https://colab.research.google.com/notebooks/data_table.ipynb>data table notebook</a>'\n",
              "            + ' to learn more about interactive tables.';\n",
              "          element.innerHTML = '';\n",
              "          dataTable['output_type'] = 'display_data';\n",
              "          await google.colab.output.renderOutput(dataTable, element);\n",
              "          const docLink = document.createElement('div');\n",
              "          docLink.innerHTML = docLinkHtml;\n",
              "          element.appendChild(docLink);\n",
              "        }\n",
              "      </script>\n",
              "    </div>\n",
              "  </div>\n",
              "  "
            ],
            "text/plain": [
              "   duration  amount  inst_rate  residing_since  age  num_credits  status  \\\n",
              "0         6    1169          4               4   67            2       0   \n",
              "1        48    5951          2               2   22            1       1   \n",
              "2        12    2096          2               3   49            1       0   \n",
              "3        42    7882          2               4   45            1       0   \n",
              "4        24    4870          3               4   53            2       1   \n",
              "\n",
              "   checkin_acc_A11  checkin_acc_A12  checkin_acc_A13  ...  \\\n",
              "0                1                0                0  ...   \n",
              "1                0                1                0  ...   \n",
              "2                0                0                0  ...   \n",
              "3                1                0                0  ...   \n",
              "4                1                0                0  ...   \n",
              "\n",
              "   personal_status_A92  personal_status_A93  personal_status_A94  \\\n",
              "0                    0                    1                    0   \n",
              "1                    1                    0                    0   \n",
              "2                    0                    1                    0   \n",
              "3                    0                    1                    0   \n",
              "4                    0                    1                    0   \n",
              "\n",
              "   inst_plans_A141  inst_plans_A142  inst_plans_A143  job_A171  job_A172  \\\n",
              "0                0                0                1         0         0   \n",
              "1                0                0                1         0         0   \n",
              "2                0                0                1         0         1   \n",
              "3                0                0                1         0         0   \n",
              "4                0                0                1         0         0   \n",
              "\n",
              "   job_A173  job_A174  \n",
              "0         1         0  \n",
              "1         1         0  \n",
              "2         0         0  \n",
              "3         1         0  \n",
              "4         1         0  \n",
              "\n",
              "[5 rows x 37 columns]"
            ]
          },
          "execution_count": 9,
          "metadata": {},
          "output_type": "execute_result"
        }
      ],
      "source": [
        "categoricals = ['checkin_acc', 'credit_history', 'savings_acc', 'present_emp_since', 'personal_status', 'inst_plans', 'job']\n",
        "dummy_df = pd.get_dummies(data, columns=categoricals)\n",
        "dummy_df.head()"
      ]
    },
    {
      "cell_type": "code",
      "execution_count": 10,
      "metadata": {
        "id": "PDWVCX0v-dVp"
      },
      "outputs": [],
      "source": [
        "X = dummy_df.drop('status', axis=1)\n",
        "y = dummy_df['status']\n",
        "X_train, X_test, y_train, y_test = train_test_split(X, y, test_size = 0.25, random_state=42)"
      ]
    },
    {
      "cell_type": "code",
      "execution_count": 11,
      "metadata": {
        "colab": {
          "base_uri": "https://localhost:8080/"
        },
        "id": "5oroLx6D-dVp",
        "outputId": "b42ae10b-fbac-4a13-d143-062ed8a805aa"
      },
      "outputs": [
        {
          "data": {
            "text/plain": [
              "GridSearchCV(cv=10, estimator=DecisionTreeClassifier(random_state=42),\n",
              "             param_grid={'criterion': ['gini', 'entropy'],\n",
              "                         'max_depth': [2, 3, 4, 5, 6, 7, 8, 9]},\n",
              "             scoring='roc_auc')"
            ]
          },
          "execution_count": 11,
          "metadata": {},
          "output_type": "execute_result"
        }
      ],
      "source": [
        "dtc = DecisionTreeClassifier(random_state=42)\n",
        "\n",
        "params = ({'criterion' : ['gini', 'entropy'], 'max_depth' : list(range(2,10))})\n",
        "gcv = GridSearchCV(dtc, params, cv=10, scoring = 'roc_auc')\n",
        "gcv.fit(X_train, y_train)"
      ]
    },
    {
      "cell_type": "code",
      "execution_count": 12,
      "metadata": {
        "colab": {
          "base_uri": "https://localhost:8080/"
        },
        "id": "Eac3S3vo-dVq",
        "outputId": "fa8d8c73-d63a-4697-d96e-b36dfe2a553b"
      },
      "outputs": [
        {
          "name": "stdout",
          "output_type": "stream",
          "text": [
            "Best Score: 0.6947320112209366\n",
            "Best Parameters: {'criterion': 'gini', 'max_depth': 4}\n"
          ]
        }
      ],
      "source": [
        "print('Best Score: {}'.format(gcv.best_score_))\n",
        "\n",
        "print('Best Parameters: {}'.format(gcv.best_params_))"
      ]
    },
    {
      "cell_type": "code",
      "execution_count": 13,
      "metadata": {
        "colab": {
          "base_uri": "https://localhost:8080/"
        },
        "id": "P6htq7Ul-dVr",
        "outputId": "a232a86e-0aa8-498e-9da4-d1d456250269"
      },
      "outputs": [
        {
          "data": {
            "text/plain": [
              "0.716"
            ]
          },
          "execution_count": 13,
          "metadata": {},
          "output_type": "execute_result"
        }
      ],
      "source": [
        "dtc_model = DecisionTreeClassifier(max_depth=4, criterion='gini')\n",
        "dtc_model.fit(X_train, y_train)\n",
        "y_pred = dtc_model.predict(X_test)\n",
        "accuracy_score(y_test, y_pred)"
      ]
    },
    {
      "cell_type": "markdown",
      "metadata": {
        "id": "1XVa2fi3-dVs"
      },
      "source": [
        "#### Question-2: Visualize the tree using graphviz software."
      ]
    },
    {
      "cell_type": "code",
      "execution_count": 14,
      "metadata": {
        "colab": {
          "base_uri": "https://localhost:8080/",
          "height": 778
        },
        "id": "8Zpo-Zxv-dVs",
        "outputId": "a3834e45-02da-4b9d-d1e3-d844bfe75501"
      },
      "outputs": [
        {
          "data": {
            "image/svg+xml": "<?xml version=\"1.0\" encoding=\"UTF-8\" standalone=\"no\"?>\n<!DOCTYPE svg PUBLIC \"-//W3C//DTD SVG 1.1//EN\"\n \"http://www.w3.org/Graphics/SVG/1.1/DTD/svg11.dtd\">\n<!-- Generated by graphviz version 2.40.1 (20161225.0304)\n -->\n<!-- Title: Tree Pages: 1 -->\n<svg width=\"2038pt\" height=\"552pt\"\n viewBox=\"0.00 0.00 2038.00 552.00\" xmlns=\"http://www.w3.org/2000/svg\" xmlns:xlink=\"http://www.w3.org/1999/xlink\">\n<g id=\"graph0\" class=\"graph\" transform=\"scale(1 1) rotate(0) translate(4 548)\">\n<title>Tree</title>\n<polygon fill=\"#ffffff\" stroke=\"transparent\" points=\"-4,4 -4,-548 2034,-548 2034,4 -4,4\"/>\n<!-- 0 -->\n<g id=\"node1\" class=\"node\">\n<title>0</title>\n<polygon fill=\"#f0b88f\" stroke=\"#000000\" points=\"1103,-544 971,-544 971,-461 1103,-461 1103,-544\"/>\n<text text-anchor=\"middle\" x=\"1037\" y=\"-528.8\" font-family=\"Helvetica,sans-Serif\" font-size=\"14.00\" fill=\"#000000\">X[9] &lt;= 0.5</text>\n<text text-anchor=\"middle\" x=\"1037\" y=\"-513.8\" font-family=\"Helvetica,sans-Serif\" font-size=\"14.00\" fill=\"#000000\">gini = 0.423</text>\n<text text-anchor=\"middle\" x=\"1037\" y=\"-498.8\" font-family=\"Helvetica,sans-Serif\" font-size=\"14.00\" fill=\"#000000\">samples = 750</text>\n<text text-anchor=\"middle\" x=\"1037\" y=\"-483.8\" font-family=\"Helvetica,sans-Serif\" font-size=\"14.00\" fill=\"#000000\">value = [522, 228]</text>\n<text text-anchor=\"middle\" x=\"1037\" y=\"-468.8\" font-family=\"Helvetica,sans-Serif\" font-size=\"14.00\" fill=\"#000000\">class = y[0]</text>\n</g>\n<!-- 1 -->\n<g id=\"node2\" class=\"node\">\n<title>1</title>\n<polygon fill=\"#f8ddc9\" stroke=\"#000000\" points=\"844,-425 712,-425 712,-342 844,-342 844,-425\"/>\n<text text-anchor=\"middle\" x=\"778\" y=\"-409.8\" font-family=\"Helvetica,sans-Serif\" font-size=\"14.00\" fill=\"#000000\">X[0] &lt;= 22.5</text>\n<text text-anchor=\"middle\" x=\"778\" y=\"-394.8\" font-family=\"Helvetica,sans-Serif\" font-size=\"14.00\" fill=\"#000000\">gini = 0.488</text>\n<text text-anchor=\"middle\" x=\"778\" y=\"-379.8\" font-family=\"Helvetica,sans-Serif\" font-size=\"14.00\" fill=\"#000000\">samples = 453</text>\n<text text-anchor=\"middle\" x=\"778\" y=\"-364.8\" font-family=\"Helvetica,sans-Serif\" font-size=\"14.00\" fill=\"#000000\">value = [262, 191]</text>\n<text text-anchor=\"middle\" x=\"778\" y=\"-349.8\" font-family=\"Helvetica,sans-Serif\" font-size=\"14.00\" fill=\"#000000\">class = y[0]</text>\n</g>\n<!-- 0&#45;&gt;1 -->\n<g id=\"edge1\" class=\"edge\">\n<title>0&#45;&gt;1</title>\n<path fill=\"none\" stroke=\"#000000\" d=\"M970.9732,-472.1634C935.1886,-455.7218 890.8132,-435.3331 853.6416,-418.2543\"/>\n<polygon fill=\"#000000\" stroke=\"#000000\" points=\"854.9041,-414.9826 844.356,-413.9879 851.9815,-421.3433 854.9041,-414.9826\"/>\n<text text-anchor=\"middle\" x=\"853.0389\" y=\"-433.7316\" font-family=\"Helvetica,sans-Serif\" font-size=\"14.00\" fill=\"#000000\">True</text>\n</g>\n<!-- 16 -->\n<g id=\"node17\" class=\"node\">\n<title>16</title>\n<polygon fill=\"#e99355\" stroke=\"#000000\" points=\"1357,-425 1233,-425 1233,-342 1357,-342 1357,-425\"/>\n<text text-anchor=\"middle\" x=\"1295\" y=\"-409.8\" font-family=\"Helvetica,sans-Serif\" font-size=\"14.00\" fill=\"#000000\">X[31] &lt;= 0.5</text>\n<text text-anchor=\"middle\" x=\"1295\" y=\"-394.8\" font-family=\"Helvetica,sans-Serif\" font-size=\"14.00\" fill=\"#000000\">gini = 0.218</text>\n<text text-anchor=\"middle\" x=\"1295\" y=\"-379.8\" font-family=\"Helvetica,sans-Serif\" font-size=\"14.00\" fill=\"#000000\">samples = 297</text>\n<text text-anchor=\"middle\" x=\"1295\" y=\"-364.8\" font-family=\"Helvetica,sans-Serif\" font-size=\"14.00\" fill=\"#000000\">value = [260, 37]</text>\n<text text-anchor=\"middle\" x=\"1295\" y=\"-349.8\" font-family=\"Helvetica,sans-Serif\" font-size=\"14.00\" fill=\"#000000\">class = y[0]</text>\n</g>\n<!-- 0&#45;&gt;16 -->\n<g id=\"edge16\" class=\"edge\">\n<title>0&#45;&gt;16</title>\n<path fill=\"none\" stroke=\"#000000\" d=\"M1103.1064,-472.0091C1139.8553,-455.059 1185.6199,-433.9505 1223.2386,-416.5992\"/>\n<polygon fill=\"#000000\" stroke=\"#000000\" points=\"1225.002,-419.6403 1232.6167,-412.2737 1222.0702,-413.2839 1225.002,-419.6403\"/>\n<text text-anchor=\"middle\" x=\"1223.9683\" y=\"-432.0301\" font-family=\"Helvetica,sans-Serif\" font-size=\"14.00\" fill=\"#000000\">False</text>\n</g>\n<!-- 2 -->\n<g id=\"node3\" class=\"node\">\n<title>2</title>\n<polygon fill=\"#f2c09b\" stroke=\"#000000\" points=\"451,-306 327,-306 327,-223 451,-223 451,-306\"/>\n<text text-anchor=\"middle\" x=\"389\" y=\"-290.8\" font-family=\"Helvetica,sans-Serif\" font-size=\"14.00\" fill=\"#000000\">X[14] &lt;= 0.5</text>\n<text text-anchor=\"middle\" x=\"389\" y=\"-275.8\" font-family=\"Helvetica,sans-Serif\" font-size=\"14.00\" fill=\"#000000\">gini = 0.444</text>\n<text text-anchor=\"middle\" x=\"389\" y=\"-260.8\" font-family=\"Helvetica,sans-Serif\" font-size=\"14.00\" fill=\"#000000\">samples = 256</text>\n<text text-anchor=\"middle\" x=\"389\" y=\"-245.8\" font-family=\"Helvetica,sans-Serif\" font-size=\"14.00\" fill=\"#000000\">value = [171, 85]</text>\n<text text-anchor=\"middle\" x=\"389\" y=\"-230.8\" font-family=\"Helvetica,sans-Serif\" font-size=\"14.00\" fill=\"#000000\">class = y[0]</text>\n</g>\n<!-- 1&#45;&gt;2 -->\n<g id=\"edge2\" class=\"edge\">\n<title>1&#45;&gt;2</title>\n<path fill=\"none\" stroke=\"#000000\" d=\"M711.5705,-363.1784C641.9345,-341.8758 532.8712,-308.512 461.1601,-286.5747\"/>\n<polygon fill=\"#000000\" stroke=\"#000000\" points=\"461.8837,-283.136 451.2973,-283.5575 459.836,-289.8298 461.8837,-283.136\"/>\n</g>\n<!-- 9 -->\n<g id=\"node10\" class=\"node\">\n<title>9</title>\n<polygon fill=\"#e3f1fb\" stroke=\"#000000\" points=\"840,-306 716,-306 716,-223 840,-223 840,-306\"/>\n<text text-anchor=\"middle\" x=\"778\" y=\"-290.8\" font-family=\"Helvetica,sans-Serif\" font-size=\"14.00\" fill=\"#000000\">X[15] &lt;= 0.5</text>\n<text text-anchor=\"middle\" x=\"778\" y=\"-275.8\" font-family=\"Helvetica,sans-Serif\" font-size=\"14.00\" fill=\"#000000\">gini = 0.497</text>\n<text text-anchor=\"middle\" x=\"778\" y=\"-260.8\" font-family=\"Helvetica,sans-Serif\" font-size=\"14.00\" fill=\"#000000\">samples = 197</text>\n<text text-anchor=\"middle\" x=\"778\" y=\"-245.8\" font-family=\"Helvetica,sans-Serif\" font-size=\"14.00\" fill=\"#000000\">value = [91, 106]</text>\n<text text-anchor=\"middle\" x=\"778\" y=\"-230.8\" font-family=\"Helvetica,sans-Serif\" font-size=\"14.00\" fill=\"#000000\">class = y[1]</text>\n</g>\n<!-- 1&#45;&gt;9 -->\n<g id=\"edge9\" class=\"edge\">\n<title>1&#45;&gt;9</title>\n<path fill=\"none\" stroke=\"#000000\" d=\"M778,-341.8796C778,-333.6838 778,-324.9891 778,-316.5013\"/>\n<polygon fill=\"#000000\" stroke=\"#000000\" points=\"781.5001,-316.298 778,-306.2981 774.5001,-316.2981 781.5001,-316.298\"/>\n</g>\n<!-- 3 -->\n<g id=\"node4\" class=\"node\">\n<title>3</title>\n<polygon fill=\"#f5d0b5\" stroke=\"#000000\" points=\"254,-187 130,-187 130,-104 254,-104 254,-187\"/>\n<text text-anchor=\"middle\" x=\"192\" y=\"-171.8\" font-family=\"Helvetica,sans-Serif\" font-size=\"14.00\" fill=\"#000000\">X[6] &lt;= 0.5</text>\n<text text-anchor=\"middle\" x=\"192\" y=\"-156.8\" font-family=\"Helvetica,sans-Serif\" font-size=\"14.00\" fill=\"#000000\">gini = 0.474</text>\n<text text-anchor=\"middle\" x=\"192\" y=\"-141.8\" font-family=\"Helvetica,sans-Serif\" font-size=\"14.00\" fill=\"#000000\">samples = 192</text>\n<text text-anchor=\"middle\" x=\"192\" y=\"-126.8\" font-family=\"Helvetica,sans-Serif\" font-size=\"14.00\" fill=\"#000000\">value = [118, 74]</text>\n<text text-anchor=\"middle\" x=\"192\" y=\"-111.8\" font-family=\"Helvetica,sans-Serif\" font-size=\"14.00\" fill=\"#000000\">class = y[0]</text>\n</g>\n<!-- 2&#45;&gt;3 -->\n<g id=\"edge3\" class=\"edge\">\n<title>2&#45;&gt;3</title>\n<path fill=\"none\" stroke=\"#000000\" d=\"M326.9384,-227.011C306.5186,-214.6762 283.6667,-200.8723 262.6563,-188.1807\"/>\n<polygon fill=\"#000000\" stroke=\"#000000\" points=\"264.4573,-185.1796 254.088,-183.005 260.8379,-191.1713 264.4573,-185.1796\"/>\n</g>\n<!-- 6 -->\n<g id=\"node7\" class=\"node\">\n<title>6</title>\n<polygon fill=\"#ea9b62\" stroke=\"#000000\" points=\"447,-187 331,-187 331,-104 447,-104 447,-187\"/>\n<text text-anchor=\"middle\" x=\"389\" y=\"-171.8\" font-family=\"Helvetica,sans-Serif\" font-size=\"14.00\" fill=\"#000000\">X[4] &lt;= 35.5</text>\n<text text-anchor=\"middle\" x=\"389\" y=\"-156.8\" font-family=\"Helvetica,sans-Serif\" font-size=\"14.00\" fill=\"#000000\">gini = 0.285</text>\n<text text-anchor=\"middle\" x=\"389\" y=\"-141.8\" font-family=\"Helvetica,sans-Serif\" font-size=\"14.00\" fill=\"#000000\">samples = 64</text>\n<text text-anchor=\"middle\" x=\"389\" y=\"-126.8\" font-family=\"Helvetica,sans-Serif\" font-size=\"14.00\" fill=\"#000000\">value = [53, 11]</text>\n<text text-anchor=\"middle\" x=\"389\" y=\"-111.8\" font-family=\"Helvetica,sans-Serif\" font-size=\"14.00\" fill=\"#000000\">class = y[0]</text>\n</g>\n<!-- 2&#45;&gt;6 -->\n<g id=\"edge6\" class=\"edge\">\n<title>2&#45;&gt;6</title>\n<path fill=\"none\" stroke=\"#000000\" d=\"M389,-222.8796C389,-214.6838 389,-205.9891 389,-197.5013\"/>\n<polygon fill=\"#000000\" stroke=\"#000000\" points=\"392.5001,-197.298 389,-187.2981 385.5001,-197.2981 392.5001,-197.298\"/>\n</g>\n<!-- 4 -->\n<g id=\"node5\" class=\"node\">\n<title>4</title>\n<polygon fill=\"#f0b58b\" stroke=\"#000000\" points=\"116,-68 0,-68 0,0 116,0 116,-68\"/>\n<text text-anchor=\"middle\" x=\"58\" y=\"-52.8\" font-family=\"Helvetica,sans-Serif\" font-size=\"14.00\" fill=\"#000000\">gini = 0.415</text>\n<text text-anchor=\"middle\" x=\"58\" y=\"-37.8\" font-family=\"Helvetica,sans-Serif\" font-size=\"14.00\" fill=\"#000000\">samples = 109</text>\n<text text-anchor=\"middle\" x=\"58\" y=\"-22.8\" font-family=\"Helvetica,sans-Serif\" font-size=\"14.00\" fill=\"#000000\">value = [77, 32]</text>\n<text text-anchor=\"middle\" x=\"58\" y=\"-7.8\" font-family=\"Helvetica,sans-Serif\" font-size=\"14.00\" fill=\"#000000\">class = y[0]</text>\n</g>\n<!-- 3&#45;&gt;4 -->\n<g id=\"edge4\" class=\"edge\">\n<title>3&#45;&gt;4</title>\n<path fill=\"none\" stroke=\"#000000\" d=\"M142.1033,-103.9815C130.6162,-94.4232 118.4103,-84.2668 106.9633,-74.7419\"/>\n<polygon fill=\"#000000\" stroke=\"#000000\" points=\"109.1035,-71.9695 99.1779,-68.2637 104.6261,-77.3503 109.1035,-71.9695\"/>\n</g>\n<!-- 5 -->\n<g id=\"node6\" class=\"node\">\n<title>5</title>\n<polygon fill=\"#fafdfe\" stroke=\"#000000\" points=\"250,-68 134,-68 134,0 250,0 250,-68\"/>\n<text text-anchor=\"middle\" x=\"192\" y=\"-52.8\" font-family=\"Helvetica,sans-Serif\" font-size=\"14.00\" fill=\"#000000\">gini = 0.5</text>\n<text text-anchor=\"middle\" x=\"192\" y=\"-37.8\" font-family=\"Helvetica,sans-Serif\" font-size=\"14.00\" fill=\"#000000\">samples = 83</text>\n<text text-anchor=\"middle\" x=\"192\" y=\"-22.8\" font-family=\"Helvetica,sans-Serif\" font-size=\"14.00\" fill=\"#000000\">value = [41, 42]</text>\n<text text-anchor=\"middle\" x=\"192\" y=\"-7.8\" font-family=\"Helvetica,sans-Serif\" font-size=\"14.00\" fill=\"#000000\">class = y[1]</text>\n</g>\n<!-- 3&#45;&gt;5 -->\n<g id=\"edge5\" class=\"edge\">\n<title>3&#45;&gt;5</title>\n<path fill=\"none\" stroke=\"#000000\" d=\"M192,-103.9815C192,-95.618 192,-86.7965 192,-78.3409\"/>\n<polygon fill=\"#000000\" stroke=\"#000000\" points=\"195.5001,-78.2636 192,-68.2637 188.5001,-78.2637 195.5001,-78.2636\"/>\n</g>\n<!-- 7 -->\n<g id=\"node8\" class=\"node\">\n<title>7</title>\n<polygon fill=\"#f1b991\" stroke=\"#000000\" points=\"375.5,-68 268.5,-68 268.5,0 375.5,0 375.5,-68\"/>\n<text text-anchor=\"middle\" x=\"322\" y=\"-52.8\" font-family=\"Helvetica,sans-Serif\" font-size=\"14.00\" fill=\"#000000\">gini = 0.426</text>\n<text text-anchor=\"middle\" x=\"322\" y=\"-37.8\" font-family=\"Helvetica,sans-Serif\" font-size=\"14.00\" fill=\"#000000\">samples = 26</text>\n<text text-anchor=\"middle\" x=\"322\" y=\"-22.8\" font-family=\"Helvetica,sans-Serif\" font-size=\"14.00\" fill=\"#000000\">value = [18, 8]</text>\n<text text-anchor=\"middle\" x=\"322\" y=\"-7.8\" font-family=\"Helvetica,sans-Serif\" font-size=\"14.00\" fill=\"#000000\">class = y[0]</text>\n</g>\n<!-- 6&#45;&gt;7 -->\n<g id=\"edge7\" class=\"edge\">\n<title>6&#45;&gt;7</title>\n<path fill=\"none\" stroke=\"#000000\" d=\"M364.0517,-103.9815C358.7499,-95.1585 353.1419,-85.8258 347.8089,-76.9506\"/>\n<polygon fill=\"#000000\" stroke=\"#000000\" points=\"350.7396,-75.0325 342.5889,-68.2637 344.7395,-78.638 350.7396,-75.0325\"/>\n</g>\n<!-- 8 -->\n<g id=\"node9\" class=\"node\">\n<title>8</title>\n<polygon fill=\"#e78c4a\" stroke=\"#000000\" points=\"500.5,-68 393.5,-68 393.5,0 500.5,0 500.5,-68\"/>\n<text text-anchor=\"middle\" x=\"447\" y=\"-52.8\" font-family=\"Helvetica,sans-Serif\" font-size=\"14.00\" fill=\"#000000\">gini = 0.145</text>\n<text text-anchor=\"middle\" x=\"447\" y=\"-37.8\" font-family=\"Helvetica,sans-Serif\" font-size=\"14.00\" fill=\"#000000\">samples = 38</text>\n<text text-anchor=\"middle\" x=\"447\" y=\"-22.8\" font-family=\"Helvetica,sans-Serif\" font-size=\"14.00\" fill=\"#000000\">value = [35, 3]</text>\n<text text-anchor=\"middle\" x=\"447\" y=\"-7.8\" font-family=\"Helvetica,sans-Serif\" font-size=\"14.00\" fill=\"#000000\">class = y[0]</text>\n</g>\n<!-- 6&#45;&gt;8 -->\n<g id=\"edge8\" class=\"edge\">\n<title>6&#45;&gt;8</title>\n<path fill=\"none\" stroke=\"#000000\" d=\"M410.5971,-103.9815C415.1388,-95.2504 419.9402,-86.0202 424.5137,-77.2281\"/>\n<polygon fill=\"#000000\" stroke=\"#000000\" points=\"427.6669,-78.7504 429.1767,-68.2637 421.4569,-75.52 427.6669,-78.7504\"/>\n</g>\n<!-- 10 -->\n<g id=\"node11\" class=\"node\">\n<title>10</title>\n<polygon fill=\"#f6d2b9\" stroke=\"#000000\" points=\"769,-187 653,-187 653,-104 769,-104 769,-187\"/>\n<text text-anchor=\"middle\" x=\"711\" y=\"-171.8\" font-family=\"Helvetica,sans-Serif\" font-size=\"14.00\" fill=\"#000000\">X[12] &lt;= 0.5</text>\n<text text-anchor=\"middle\" x=\"711\" y=\"-156.8\" font-family=\"Helvetica,sans-Serif\" font-size=\"14.00\" fill=\"#000000\">gini = 0.477</text>\n<text text-anchor=\"middle\" x=\"711\" y=\"-141.8\" font-family=\"Helvetica,sans-Serif\" font-size=\"14.00\" fill=\"#000000\">samples = 74</text>\n<text text-anchor=\"middle\" x=\"711\" y=\"-126.8\" font-family=\"Helvetica,sans-Serif\" font-size=\"14.00\" fill=\"#000000\">value = [45, 29]</text>\n<text text-anchor=\"middle\" x=\"711\" y=\"-111.8\" font-family=\"Helvetica,sans-Serif\" font-size=\"14.00\" fill=\"#000000\">class = y[0]</text>\n</g>\n<!-- 9&#45;&gt;10 -->\n<g id=\"edge10\" class=\"edge\">\n<title>9&#45;&gt;10</title>\n<path fill=\"none\" stroke=\"#000000\" d=\"M754.5667,-222.8796C749.6987,-214.2335 744.5181,-205.0322 739.4914,-196.1042\"/>\n<polygon fill=\"#000000\" stroke=\"#000000\" points=\"742.4893,-194.2947 734.5334,-187.2981 736.3897,-197.729 742.4893,-194.2947\"/>\n</g>\n<!-- 13 -->\n<g id=\"node14\" class=\"node\">\n<title>13</title>\n<polygon fill=\"#afd8f5\" stroke=\"#000000\" points=\"903,-187 787,-187 787,-104 903,-104 903,-187\"/>\n<text text-anchor=\"middle\" x=\"845\" y=\"-171.8\" font-family=\"Helvetica,sans-Serif\" font-size=\"14.00\" fill=\"#000000\">X[0] &lt;= 47.5</text>\n<text text-anchor=\"middle\" x=\"845\" y=\"-156.8\" font-family=\"Helvetica,sans-Serif\" font-size=\"14.00\" fill=\"#000000\">gini = 0.468</text>\n<text text-anchor=\"middle\" x=\"845\" y=\"-141.8\" font-family=\"Helvetica,sans-Serif\" font-size=\"14.00\" fill=\"#000000\">samples = 123</text>\n<text text-anchor=\"middle\" x=\"845\" y=\"-126.8\" font-family=\"Helvetica,sans-Serif\" font-size=\"14.00\" fill=\"#000000\">value = [46, 77]</text>\n<text text-anchor=\"middle\" x=\"845\" y=\"-111.8\" font-family=\"Helvetica,sans-Serif\" font-size=\"14.00\" fill=\"#000000\">class = y[1]</text>\n</g>\n<!-- 9&#45;&gt;13 -->\n<g id=\"edge13\" class=\"edge\">\n<title>9&#45;&gt;13</title>\n<path fill=\"none\" stroke=\"#000000\" d=\"M801.4333,-222.8796C806.3013,-214.2335 811.4819,-205.0322 816.5086,-196.1042\"/>\n<polygon fill=\"#000000\" stroke=\"#000000\" points=\"819.6103,-197.729 821.4666,-187.2981 813.5107,-194.2947 819.6103,-197.729\"/>\n</g>\n<!-- 11 -->\n<g id=\"node12\" class=\"node\">\n<title>11</title>\n<polygon fill=\"#eeab7b\" stroke=\"#000000\" points=\"635,-68 519,-68 519,0 635,0 635,-68\"/>\n<text text-anchor=\"middle\" x=\"577\" y=\"-52.8\" font-family=\"Helvetica,sans-Serif\" font-size=\"14.00\" fill=\"#000000\">gini = 0.375</text>\n<text text-anchor=\"middle\" x=\"577\" y=\"-37.8\" font-family=\"Helvetica,sans-Serif\" font-size=\"14.00\" fill=\"#000000\">samples = 44</text>\n<text text-anchor=\"middle\" x=\"577\" y=\"-22.8\" font-family=\"Helvetica,sans-Serif\" font-size=\"14.00\" fill=\"#000000\">value = [33, 11]</text>\n<text text-anchor=\"middle\" x=\"577\" y=\"-7.8\" font-family=\"Helvetica,sans-Serif\" font-size=\"14.00\" fill=\"#000000\">class = y[0]</text>\n</g>\n<!-- 10&#45;&gt;11 -->\n<g id=\"edge11\" class=\"edge\">\n<title>10&#45;&gt;11</title>\n<path fill=\"none\" stroke=\"#000000\" d=\"M661.1033,-103.9815C649.6162,-94.4232 637.4103,-84.2668 625.9633,-74.7419\"/>\n<polygon fill=\"#000000\" stroke=\"#000000\" points=\"628.1035,-71.9695 618.1779,-68.2637 623.6261,-77.3503 628.1035,-71.9695\"/>\n</g>\n<!-- 12 -->\n<g id=\"node13\" class=\"node\">\n<title>12</title>\n<polygon fill=\"#bddef6\" stroke=\"#000000\" points=\"769,-68 653,-68 653,0 769,0 769,-68\"/>\n<text text-anchor=\"middle\" x=\"711\" y=\"-52.8\" font-family=\"Helvetica,sans-Serif\" font-size=\"14.00\" fill=\"#000000\">gini = 0.48</text>\n<text text-anchor=\"middle\" x=\"711\" y=\"-37.8\" font-family=\"Helvetica,sans-Serif\" font-size=\"14.00\" fill=\"#000000\">samples = 30</text>\n<text text-anchor=\"middle\" x=\"711\" y=\"-22.8\" font-family=\"Helvetica,sans-Serif\" font-size=\"14.00\" fill=\"#000000\">value = [12, 18]</text>\n<text text-anchor=\"middle\" x=\"711\" y=\"-7.8\" font-family=\"Helvetica,sans-Serif\" font-size=\"14.00\" fill=\"#000000\">class = y[1]</text>\n</g>\n<!-- 10&#45;&gt;12 -->\n<g id=\"edge12\" class=\"edge\">\n<title>10&#45;&gt;12</title>\n<path fill=\"none\" stroke=\"#000000\" d=\"M711,-103.9815C711,-95.618 711,-86.7965 711,-78.3409\"/>\n<polygon fill=\"#000000\" stroke=\"#000000\" points=\"714.5001,-78.2636 711,-68.2637 707.5001,-78.2637 714.5001,-78.2636\"/>\n</g>\n<!-- 14 -->\n<g id=\"node15\" class=\"node\">\n<title>14</title>\n<polygon fill=\"#d6ebfa\" stroke=\"#000000\" points=\"903,-68 787,-68 787,0 903,0 903,-68\"/>\n<text text-anchor=\"middle\" x=\"845\" y=\"-52.8\" font-family=\"Helvetica,sans-Serif\" font-size=\"14.00\" fill=\"#000000\">gini = 0.493</text>\n<text text-anchor=\"middle\" x=\"845\" y=\"-37.8\" font-family=\"Helvetica,sans-Serif\" font-size=\"14.00\" fill=\"#000000\">samples = 104</text>\n<text text-anchor=\"middle\" x=\"845\" y=\"-22.8\" font-family=\"Helvetica,sans-Serif\" font-size=\"14.00\" fill=\"#000000\">value = [46, 58]</text>\n<text text-anchor=\"middle\" x=\"845\" y=\"-7.8\" font-family=\"Helvetica,sans-Serif\" font-size=\"14.00\" fill=\"#000000\">class = y[1]</text>\n</g>\n<!-- 13&#45;&gt;14 -->\n<g id=\"edge14\" class=\"edge\">\n<title>13&#45;&gt;14</title>\n<path fill=\"none\" stroke=\"#000000\" d=\"M845,-103.9815C845,-95.618 845,-86.7965 845,-78.3409\"/>\n<polygon fill=\"#000000\" stroke=\"#000000\" points=\"848.5001,-78.2636 845,-68.2637 841.5001,-78.2637 848.5001,-78.2636\"/>\n</g>\n<!-- 15 -->\n<g id=\"node16\" class=\"node\">\n<title>15</title>\n<polygon fill=\"#399de5\" stroke=\"#000000\" points=\"1028.5,-68 921.5,-68 921.5,0 1028.5,0 1028.5,-68\"/>\n<text text-anchor=\"middle\" x=\"975\" y=\"-52.8\" font-family=\"Helvetica,sans-Serif\" font-size=\"14.00\" fill=\"#000000\">gini = 0.0</text>\n<text text-anchor=\"middle\" x=\"975\" y=\"-37.8\" font-family=\"Helvetica,sans-Serif\" font-size=\"14.00\" fill=\"#000000\">samples = 19</text>\n<text text-anchor=\"middle\" x=\"975\" y=\"-22.8\" font-family=\"Helvetica,sans-Serif\" font-size=\"14.00\" fill=\"#000000\">value = [0, 19]</text>\n<text text-anchor=\"middle\" x=\"975\" y=\"-7.8\" font-family=\"Helvetica,sans-Serif\" font-size=\"14.00\" fill=\"#000000\">class = y[1]</text>\n</g>\n<!-- 13&#45;&gt;15 -->\n<g id=\"edge15\" class=\"edge\">\n<title>13&#45;&gt;15</title>\n<path fill=\"none\" stroke=\"#000000\" d=\"M893.4072,-103.9815C904.4442,-94.5151 916.1653,-84.462 927.1777,-75.0168\"/>\n<polygon fill=\"#000000\" stroke=\"#000000\" points=\"929.7394,-77.4307 935.0513,-68.2637 925.1822,-72.1173 929.7394,-77.4307\"/>\n</g>\n<!-- 17 -->\n<g id=\"node18\" class=\"node\">\n<title>17</title>\n<polygon fill=\"#efb388\" stroke=\"#000000\" points=\"1353,-306 1237,-306 1237,-223 1353,-223 1353,-306\"/>\n<text text-anchor=\"middle\" x=\"1295\" y=\"-290.8\" font-family=\"Helvetica,sans-Serif\" font-size=\"14.00\" fill=\"#000000\">X[20] &lt;= 0.5</text>\n<text text-anchor=\"middle\" x=\"1295\" y=\"-275.8\" font-family=\"Helvetica,sans-Serif\" font-size=\"14.00\" fill=\"#000000\">gini = 0.408</text>\n<text text-anchor=\"middle\" x=\"1295\" y=\"-260.8\" font-family=\"Helvetica,sans-Serif\" font-size=\"14.00\" fill=\"#000000\">samples = 49</text>\n<text text-anchor=\"middle\" x=\"1295\" y=\"-245.8\" font-family=\"Helvetica,sans-Serif\" font-size=\"14.00\" fill=\"#000000\">value = [35, 14]</text>\n<text text-anchor=\"middle\" x=\"1295\" y=\"-230.8\" font-family=\"Helvetica,sans-Serif\" font-size=\"14.00\" fill=\"#000000\">class = y[0]</text>\n</g>\n<!-- 16&#45;&gt;17 -->\n<g id=\"edge17\" class=\"edge\">\n<title>16&#45;&gt;17</title>\n<path fill=\"none\" stroke=\"#000000\" d=\"M1295,-341.8796C1295,-333.6838 1295,-324.9891 1295,-316.5013\"/>\n<polygon fill=\"#000000\" stroke=\"#000000\" points=\"1298.5001,-316.298 1295,-306.2981 1291.5001,-316.2981 1298.5001,-316.298\"/>\n</g>\n<!-- 24 -->\n<g id=\"node25\" class=\"node\">\n<title>24</title>\n<polygon fill=\"#e88e4d\" stroke=\"#000000\" points=\"1709,-306 1585,-306 1585,-223 1709,-223 1709,-306\"/>\n<text text-anchor=\"middle\" x=\"1647\" y=\"-290.8\" font-family=\"Helvetica,sans-Serif\" font-size=\"14.00\" fill=\"#000000\">X[4] &lt;= 23.5</text>\n<text text-anchor=\"middle\" x=\"1647\" y=\"-275.8\" font-family=\"Helvetica,sans-Serif\" font-size=\"14.00\" fill=\"#000000\">gini = 0.168</text>\n<text text-anchor=\"middle\" x=\"1647\" y=\"-260.8\" font-family=\"Helvetica,sans-Serif\" font-size=\"14.00\" fill=\"#000000\">samples = 248</text>\n<text text-anchor=\"middle\" x=\"1647\" y=\"-245.8\" font-family=\"Helvetica,sans-Serif\" font-size=\"14.00\" fill=\"#000000\">value = [225, 23]</text>\n<text text-anchor=\"middle\" x=\"1647\" y=\"-230.8\" font-family=\"Helvetica,sans-Serif\" font-size=\"14.00\" fill=\"#000000\">class = y[0]</text>\n</g>\n<!-- 16&#45;&gt;24 -->\n<g id=\"edge24\" class=\"edge\">\n<title>16&#45;&gt;24</title>\n<path fill=\"none\" stroke=\"#000000\" d=\"M1357.1203,-362.4991C1418.1327,-341.8728 1511.1427,-310.429 1575.2704,-288.7495\"/>\n<polygon fill=\"#000000\" stroke=\"#000000\" points=\"1576.5574,-292.0091 1584.9097,-285.4907 1574.3155,-285.3778 1576.5574,-292.0091\"/>\n</g>\n<!-- 18 -->\n<g id=\"node19\" class=\"node\">\n<title>18</title>\n<polygon fill=\"#edaa79\" stroke=\"#000000\" points=\"1290,-187 1174,-187 1174,-104 1290,-104 1290,-187\"/>\n<text text-anchor=\"middle\" x=\"1232\" y=\"-171.8\" font-family=\"Helvetica,sans-Serif\" font-size=\"14.00\" fill=\"#000000\">X[4] &lt;= 44.5</text>\n<text text-anchor=\"middle\" x=\"1232\" y=\"-156.8\" font-family=\"Helvetica,sans-Serif\" font-size=\"14.00\" fill=\"#000000\">gini = 0.369</text>\n<text text-anchor=\"middle\" x=\"1232\" y=\"-141.8\" font-family=\"Helvetica,sans-Serif\" font-size=\"14.00\" fill=\"#000000\">samples = 45</text>\n<text text-anchor=\"middle\" x=\"1232\" y=\"-126.8\" font-family=\"Helvetica,sans-Serif\" font-size=\"14.00\" fill=\"#000000\">value = [34, 11]</text>\n<text text-anchor=\"middle\" x=\"1232\" y=\"-111.8\" font-family=\"Helvetica,sans-Serif\" font-size=\"14.00\" fill=\"#000000\">class = y[0]</text>\n</g>\n<!-- 17&#45;&gt;18 -->\n<g id=\"edge18\" class=\"edge\">\n<title>17&#45;&gt;18</title>\n<path fill=\"none\" stroke=\"#000000\" d=\"M1272.9657,-222.8796C1268.436,-214.3236 1263.6185,-205.2238 1258.9382,-196.3833\"/>\n<polygon fill=\"#000000\" stroke=\"#000000\" points=\"1261.9006,-194.4983 1254.1284,-187.2981 1255.7141,-197.7736 1261.9006,-194.4983\"/>\n</g>\n<!-- 21 -->\n<g id=\"node22\" class=\"node\">\n<title>21</title>\n<polygon fill=\"#7bbeee\" stroke=\"#000000\" points=\"1407.5,-187 1308.5,-187 1308.5,-104 1407.5,-104 1407.5,-187\"/>\n<text text-anchor=\"middle\" x=\"1358\" y=\"-171.8\" font-family=\"Helvetica,sans-Serif\" font-size=\"14.00\" fill=\"#000000\">X[4] &lt;= 30.0</text>\n<text text-anchor=\"middle\" x=\"1358\" y=\"-156.8\" font-family=\"Helvetica,sans-Serif\" font-size=\"14.00\" fill=\"#000000\">gini = 0.375</text>\n<text text-anchor=\"middle\" x=\"1358\" y=\"-141.8\" font-family=\"Helvetica,sans-Serif\" font-size=\"14.00\" fill=\"#000000\">samples = 4</text>\n<text text-anchor=\"middle\" x=\"1358\" y=\"-126.8\" font-family=\"Helvetica,sans-Serif\" font-size=\"14.00\" fill=\"#000000\">value = [1, 3]</text>\n<text text-anchor=\"middle\" x=\"1358\" y=\"-111.8\" font-family=\"Helvetica,sans-Serif\" font-size=\"14.00\" fill=\"#000000\">class = y[1]</text>\n</g>\n<!-- 17&#45;&gt;21 -->\n<g id=\"edge21\" class=\"edge\">\n<title>17&#45;&gt;21</title>\n<path fill=\"none\" stroke=\"#000000\" d=\"M1317.0343,-222.8796C1321.564,-214.3236 1326.3815,-205.2238 1331.0618,-196.3833\"/>\n<polygon fill=\"#000000\" stroke=\"#000000\" points=\"1334.2859,-197.7736 1335.8716,-187.2981 1328.0994,-194.4983 1334.2859,-197.7736\"/>\n</g>\n<!-- 19 -->\n<g id=\"node20\" class=\"node\">\n<title>19</title>\n<polygon fill=\"#f1bb94\" stroke=\"#000000\" points=\"1163,-68 1047,-68 1047,0 1163,0 1163,-68\"/>\n<text text-anchor=\"middle\" x=\"1105\" y=\"-52.8\" font-family=\"Helvetica,sans-Serif\" font-size=\"14.00\" fill=\"#000000\">gini = 0.431</text>\n<text text-anchor=\"middle\" x=\"1105\" y=\"-37.8\" font-family=\"Helvetica,sans-Serif\" font-size=\"14.00\" fill=\"#000000\">samples = 35</text>\n<text text-anchor=\"middle\" x=\"1105\" y=\"-22.8\" font-family=\"Helvetica,sans-Serif\" font-size=\"14.00\" fill=\"#000000\">value = [24, 11]</text>\n<text text-anchor=\"middle\" x=\"1105\" y=\"-7.8\" font-family=\"Helvetica,sans-Serif\" font-size=\"14.00\" fill=\"#000000\">class = y[0]</text>\n</g>\n<!-- 18&#45;&gt;19 -->\n<g id=\"edge19\" class=\"edge\">\n<title>18&#45;&gt;19</title>\n<path fill=\"none\" stroke=\"#000000\" d=\"M1184.7099,-103.9815C1173.9275,-94.5151 1162.477,-84.462 1151.7187,-75.0168\"/>\n<polygon fill=\"#000000\" stroke=\"#000000\" points=\"1153.8507,-72.2311 1144.0268,-68.2637 1149.2324,-77.4915 1153.8507,-72.2311\"/>\n</g>\n<!-- 20 -->\n<g id=\"node21\" class=\"node\">\n<title>20</title>\n<polygon fill=\"#e58139\" stroke=\"#000000\" points=\"1288.5,-68 1181.5,-68 1181.5,0 1288.5,0 1288.5,-68\"/>\n<text text-anchor=\"middle\" x=\"1235\" y=\"-52.8\" font-family=\"Helvetica,sans-Serif\" font-size=\"14.00\" fill=\"#000000\">gini = 0.0</text>\n<text text-anchor=\"middle\" x=\"1235\" y=\"-37.8\" font-family=\"Helvetica,sans-Serif\" font-size=\"14.00\" fill=\"#000000\">samples = 10</text>\n<text text-anchor=\"middle\" x=\"1235\" y=\"-22.8\" font-family=\"Helvetica,sans-Serif\" font-size=\"14.00\" fill=\"#000000\">value = [10, 0]</text>\n<text text-anchor=\"middle\" x=\"1235\" y=\"-7.8\" font-family=\"Helvetica,sans-Serif\" font-size=\"14.00\" fill=\"#000000\">class = y[0]</text>\n</g>\n<!-- 18&#45;&gt;20 -->\n<g id=\"edge20\" class=\"edge\">\n<title>18&#45;&gt;20</title>\n<path fill=\"none\" stroke=\"#000000\" d=\"M1233.1171,-103.9815C1233.3421,-95.618 1233.5795,-86.7965 1233.807,-78.3409\"/>\n<polygon fill=\"#000000\" stroke=\"#000000\" points=\"1237.3078,-78.3542 1234.0781,-68.2637 1230.3103,-78.1659 1237.3078,-78.3542\"/>\n</g>\n<!-- 22 -->\n<g id=\"node23\" class=\"node\">\n<title>22</title>\n<polygon fill=\"#e58139\" stroke=\"#000000\" points=\"1405.5,-68 1306.5,-68 1306.5,0 1405.5,0 1405.5,-68\"/>\n<text text-anchor=\"middle\" x=\"1356\" y=\"-52.8\" font-family=\"Helvetica,sans-Serif\" font-size=\"14.00\" fill=\"#000000\">gini = 0.0</text>\n<text text-anchor=\"middle\" x=\"1356\" y=\"-37.8\" font-family=\"Helvetica,sans-Serif\" font-size=\"14.00\" fill=\"#000000\">samples = 1</text>\n<text text-anchor=\"middle\" x=\"1356\" y=\"-22.8\" font-family=\"Helvetica,sans-Serif\" font-size=\"14.00\" fill=\"#000000\">value = [1, 0]</text>\n<text text-anchor=\"middle\" x=\"1356\" y=\"-7.8\" font-family=\"Helvetica,sans-Serif\" font-size=\"14.00\" fill=\"#000000\">class = y[0]</text>\n</g>\n<!-- 21&#45;&gt;22 -->\n<g id=\"edge22\" class=\"edge\">\n<title>21&#45;&gt;22</title>\n<path fill=\"none\" stroke=\"#000000\" d=\"M1357.2553,-103.9815C1357.1053,-95.618 1356.947,-86.7965 1356.7954,-78.3409\"/>\n<polygon fill=\"#000000\" stroke=\"#000000\" points=\"1360.2935,-78.1993 1356.6146,-68.2637 1353.2946,-78.3249 1360.2935,-78.1993\"/>\n</g>\n<!-- 23 -->\n<g id=\"node24\" class=\"node\">\n<title>23</title>\n<polygon fill=\"#399de5\" stroke=\"#000000\" points=\"1522.5,-68 1423.5,-68 1423.5,0 1522.5,0 1522.5,-68\"/>\n<text text-anchor=\"middle\" x=\"1473\" y=\"-52.8\" font-family=\"Helvetica,sans-Serif\" font-size=\"14.00\" fill=\"#000000\">gini = 0.0</text>\n<text text-anchor=\"middle\" x=\"1473\" y=\"-37.8\" font-family=\"Helvetica,sans-Serif\" font-size=\"14.00\" fill=\"#000000\">samples = 3</text>\n<text text-anchor=\"middle\" x=\"1473\" y=\"-22.8\" font-family=\"Helvetica,sans-Serif\" font-size=\"14.00\" fill=\"#000000\">value = [0, 3]</text>\n<text text-anchor=\"middle\" x=\"1473\" y=\"-7.8\" font-family=\"Helvetica,sans-Serif\" font-size=\"14.00\" fill=\"#000000\">class = y[1]</text>\n</g>\n<!-- 21&#45;&gt;23 -->\n<g id=\"edge23\" class=\"edge\">\n<title>21&#45;&gt;23</title>\n<path fill=\"none\" stroke=\"#000000\" d=\"M1400.8218,-103.9815C1410.4905,-94.607 1420.7527,-84.6572 1430.4118,-75.2921\"/>\n<polygon fill=\"#000000\" stroke=\"#000000\" points=\"1432.9176,-77.7375 1437.6608,-68.2637 1428.0449,-72.7118 1432.9176,-77.7375\"/>\n</g>\n<!-- 25 -->\n<g id=\"node26\" class=\"node\">\n<title>25</title>\n<polygon fill=\"#f2c09c\" stroke=\"#000000\" points=\"1700.5,-187 1593.5,-187 1593.5,-104 1700.5,-104 1700.5,-187\"/>\n<text text-anchor=\"middle\" x=\"1647\" y=\"-171.8\" font-family=\"Helvetica,sans-Serif\" font-size=\"14.00\" fill=\"#000000\">X[15] &lt;= 0.5</text>\n<text text-anchor=\"middle\" x=\"1647\" y=\"-156.8\" font-family=\"Helvetica,sans-Serif\" font-size=\"14.00\" fill=\"#000000\">gini = 0.444</text>\n<text text-anchor=\"middle\" x=\"1647\" y=\"-141.8\" font-family=\"Helvetica,sans-Serif\" font-size=\"14.00\" fill=\"#000000\">samples = 18</text>\n<text text-anchor=\"middle\" x=\"1647\" y=\"-126.8\" font-family=\"Helvetica,sans-Serif\" font-size=\"14.00\" fill=\"#000000\">value = [12, 6]</text>\n<text text-anchor=\"middle\" x=\"1647\" y=\"-111.8\" font-family=\"Helvetica,sans-Serif\" font-size=\"14.00\" fill=\"#000000\">class = y[0]</text>\n</g>\n<!-- 24&#45;&gt;25 -->\n<g id=\"edge25\" class=\"edge\">\n<title>24&#45;&gt;25</title>\n<path fill=\"none\" stroke=\"#000000\" d=\"M1647,-222.8796C1647,-214.6838 1647,-205.9891 1647,-197.5013\"/>\n<polygon fill=\"#000000\" stroke=\"#000000\" points=\"1650.5001,-197.298 1647,-187.2981 1643.5001,-197.2981 1650.5001,-197.298\"/>\n</g>\n<!-- 28 -->\n<g id=\"node29\" class=\"node\">\n<title>28</title>\n<polygon fill=\"#e78b49\" stroke=\"#000000\" points=\"1900,-187 1776,-187 1776,-104 1900,-104 1900,-187\"/>\n<text text-anchor=\"middle\" x=\"1838\" y=\"-171.8\" font-family=\"Helvetica,sans-Serif\" font-size=\"14.00\" fill=\"#000000\">X[1] &lt;= 4458.5</text>\n<text text-anchor=\"middle\" x=\"1838\" y=\"-156.8\" font-family=\"Helvetica,sans-Serif\" font-size=\"14.00\" fill=\"#000000\">gini = 0.137</text>\n<text text-anchor=\"middle\" x=\"1838\" y=\"-141.8\" font-family=\"Helvetica,sans-Serif\" font-size=\"14.00\" fill=\"#000000\">samples = 230</text>\n<text text-anchor=\"middle\" x=\"1838\" y=\"-126.8\" font-family=\"Helvetica,sans-Serif\" font-size=\"14.00\" fill=\"#000000\">value = [213, 17]</text>\n<text text-anchor=\"middle\" x=\"1838\" y=\"-111.8\" font-family=\"Helvetica,sans-Serif\" font-size=\"14.00\" fill=\"#000000\">class = y[0]</text>\n</g>\n<!-- 24&#45;&gt;28 -->\n<g id=\"edge28\" class=\"edge\">\n<title>24&#45;&gt;28</title>\n<path fill=\"none\" stroke=\"#000000\" d=\"M1709.0122,-225.8641C1727.6209,-214.2702 1748.1719,-201.4662 1767.2974,-189.5503\"/>\n<polygon fill=\"#000000\" stroke=\"#000000\" points=\"1769.3356,-192.4042 1775.9723,-184.1455 1765.634,-186.463 1769.3356,-192.4042\"/>\n</g>\n<!-- 26 -->\n<g id=\"node27\" class=\"node\">\n<title>26</title>\n<polygon fill=\"#e58139\" stroke=\"#000000\" points=\"1639.5,-68 1540.5,-68 1540.5,0 1639.5,0 1639.5,-68\"/>\n<text text-anchor=\"middle\" x=\"1590\" y=\"-52.8\" font-family=\"Helvetica,sans-Serif\" font-size=\"14.00\" fill=\"#000000\">gini = 0.0</text>\n<text text-anchor=\"middle\" x=\"1590\" y=\"-37.8\" font-family=\"Helvetica,sans-Serif\" font-size=\"14.00\" fill=\"#000000\">samples = 7</text>\n<text text-anchor=\"middle\" x=\"1590\" y=\"-22.8\" font-family=\"Helvetica,sans-Serif\" font-size=\"14.00\" fill=\"#000000\">value = [7, 0]</text>\n<text text-anchor=\"middle\" x=\"1590\" y=\"-7.8\" font-family=\"Helvetica,sans-Serif\" font-size=\"14.00\" fill=\"#000000\">class = y[0]</text>\n</g>\n<!-- 25&#45;&gt;26 -->\n<g id=\"edge26\" class=\"edge\">\n<title>25&#45;&gt;26</title>\n<path fill=\"none\" stroke=\"#000000\" d=\"M1625.7753,-103.9815C1621.3119,-95.2504 1616.5933,-86.0202 1612.0987,-77.2281\"/>\n<polygon fill=\"#000000\" stroke=\"#000000\" points=\"1615.1842,-75.5745 1607.516,-68.2637 1608.9514,-78.7608 1615.1842,-75.5745\"/>\n</g>\n<!-- 27 -->\n<g id=\"node28\" class=\"node\">\n<title>27</title>\n<polygon fill=\"#deeffb\" stroke=\"#000000\" points=\"1762,-68 1658,-68 1658,0 1762,0 1762,-68\"/>\n<text text-anchor=\"middle\" x=\"1710\" y=\"-52.8\" font-family=\"Helvetica,sans-Serif\" font-size=\"14.00\" fill=\"#000000\">gini = 0.496</text>\n<text text-anchor=\"middle\" x=\"1710\" y=\"-37.8\" font-family=\"Helvetica,sans-Serif\" font-size=\"14.00\" fill=\"#000000\">samples = 11</text>\n<text text-anchor=\"middle\" x=\"1710\" y=\"-22.8\" font-family=\"Helvetica,sans-Serif\" font-size=\"14.00\" fill=\"#000000\">value = [5, 6]</text>\n<text text-anchor=\"middle\" x=\"1710\" y=\"-7.8\" font-family=\"Helvetica,sans-Serif\" font-size=\"14.00\" fill=\"#000000\">class = y[1]</text>\n</g>\n<!-- 25&#45;&gt;27 -->\n<g id=\"edge27\" class=\"edge\">\n<title>25&#45;&gt;27</title>\n<path fill=\"none\" stroke=\"#000000\" d=\"M1670.4589,-103.9815C1675.3922,-95.2504 1680.6074,-86.0202 1685.5752,-77.2281\"/>\n<polygon fill=\"#000000\" stroke=\"#000000\" points=\"1688.7681,-78.6918 1690.6403,-68.2637 1682.6737,-75.2483 1688.7681,-78.6918\"/>\n</g>\n<!-- 29 -->\n<g id=\"node30\" class=\"node\">\n<title>29</title>\n<polygon fill=\"#e68641\" stroke=\"#000000\" points=\"1896,-68 1780,-68 1780,0 1896,0 1896,-68\"/>\n<text text-anchor=\"middle\" x=\"1838\" y=\"-52.8\" font-family=\"Helvetica,sans-Serif\" font-size=\"14.00\" fill=\"#000000\">gini = 0.075</text>\n<text text-anchor=\"middle\" x=\"1838\" y=\"-37.8\" font-family=\"Helvetica,sans-Serif\" font-size=\"14.00\" fill=\"#000000\">samples = 180</text>\n<text text-anchor=\"middle\" x=\"1838\" y=\"-22.8\" font-family=\"Helvetica,sans-Serif\" font-size=\"14.00\" fill=\"#000000\">value = [173, 7]</text>\n<text text-anchor=\"middle\" x=\"1838\" y=\"-7.8\" font-family=\"Helvetica,sans-Serif\" font-size=\"14.00\" fill=\"#000000\">class = y[0]</text>\n</g>\n<!-- 28&#45;&gt;29 -->\n<g id=\"edge29\" class=\"edge\">\n<title>28&#45;&gt;29</title>\n<path fill=\"none\" stroke=\"#000000\" d=\"M1838,-103.9815C1838,-95.618 1838,-86.7965 1838,-78.3409\"/>\n<polygon fill=\"#000000\" stroke=\"#000000\" points=\"1841.5001,-78.2636 1838,-68.2637 1834.5001,-78.2637 1841.5001,-78.2636\"/>\n</g>\n<!-- 30 -->\n<g id=\"node31\" class=\"node\">\n<title>30</title>\n<polygon fill=\"#eca06a\" stroke=\"#000000\" points=\"2030,-68 1914,-68 1914,0 2030,0 2030,-68\"/>\n<text text-anchor=\"middle\" x=\"1972\" y=\"-52.8\" font-family=\"Helvetica,sans-Serif\" font-size=\"14.00\" fill=\"#000000\">gini = 0.32</text>\n<text text-anchor=\"middle\" x=\"1972\" y=\"-37.8\" font-family=\"Helvetica,sans-Serif\" font-size=\"14.00\" fill=\"#000000\">samples = 50</text>\n<text text-anchor=\"middle\" x=\"1972\" y=\"-22.8\" font-family=\"Helvetica,sans-Serif\" font-size=\"14.00\" fill=\"#000000\">value = [40, 10]</text>\n<text text-anchor=\"middle\" x=\"1972\" y=\"-7.8\" font-family=\"Helvetica,sans-Serif\" font-size=\"14.00\" fill=\"#000000\">class = y[0]</text>\n</g>\n<!-- 28&#45;&gt;30 -->\n<g id=\"edge30\" class=\"edge\">\n<title>28&#45;&gt;30</title>\n<path fill=\"none\" stroke=\"#000000\" d=\"M1887.8967,-103.9815C1899.3838,-94.4232 1911.5897,-84.2668 1923.0367,-74.7419\"/>\n<polygon fill=\"#000000\" stroke=\"#000000\" points=\"1925.3739,-77.3503 1930.8221,-68.2637 1920.8965,-71.9695 1925.3739,-77.3503\"/>\n</g>\n</g>\n</svg>\n",
            "text/plain": [
              "<graphviz.files.Source at 0x7fad83390f90>"
            ]
          },
          "execution_count": 14,
          "metadata": {},
          "output_type": "execute_result"
        }
      ],
      "source": [
        "dot_data = tree.export_graphviz(dtc_model, out_file=None, filled=True, class_names=True)\n",
        "graph = graphviz.Source(dot_data, format=\"png\") \n",
        "graph"
      ]
    },
    {
      "cell_type": "markdown",
      "metadata": {
        "id": "U937jF2K-dVs"
      },
      "source": [
        "#### Question-3: Display the text representation of the rules learnt."
      ]
    },
    {
      "cell_type": "code",
      "execution_count": 15,
      "metadata": {
        "colab": {
          "base_uri": "https://localhost:8080/"
        },
        "id": "poD7po_V-dVt",
        "outputId": "d2896149-ed5e-4810-f054-e68201046e18"
      },
      "outputs": [
        {
          "name": "stdout",
          "output_type": "stream",
          "text": [
            "|--- checkin_acc_A14 <= 0.50\n",
            "|   |--- duration <= 22.50\n",
            "|   |   |--- credit_history_A34 <= 0.50\n",
            "|   |   |   |--- checkin_acc_A11 <= 0.50\n",
            "|   |   |   |   |--- class: 0\n",
            "|   |   |   |--- checkin_acc_A11 >  0.50\n",
            "|   |   |   |   |--- class: 1\n",
            "|   |   |--- credit_history_A34 >  0.50\n",
            "|   |   |   |--- age <= 35.50\n",
            "|   |   |   |   |--- class: 0\n",
            "|   |   |   |--- age >  35.50\n",
            "|   |   |   |   |--- class: 0\n",
            "|   |--- duration >  22.50\n",
            "|   |   |--- savings_acc_A61 <= 0.50\n",
            "|   |   |   |--- credit_history_A32 <= 0.50\n",
            "|   |   |   |   |--- class: 0\n",
            "|   |   |   |--- credit_history_A32 >  0.50\n",
            "|   |   |   |   |--- class: 1\n",
            "|   |   |--- savings_acc_A61 >  0.50\n",
            "|   |   |   |--- duration <= 47.50\n",
            "|   |   |   |   |--- class: 1\n",
            "|   |   |   |--- duration >  47.50\n",
            "|   |   |   |   |--- class: 1\n",
            "|--- checkin_acc_A14 >  0.50\n",
            "|   |--- inst_plans_A143 <= 0.50\n",
            "|   |   |--- present_emp_since_A71 <= 0.50\n",
            "|   |   |   |--- age <= 44.50\n",
            "|   |   |   |   |--- class: 0\n",
            "|   |   |   |--- age >  44.50\n",
            "|   |   |   |   |--- class: 0\n",
            "|   |   |--- present_emp_since_A71 >  0.50\n",
            "|   |   |   |--- age <= 30.00\n",
            "|   |   |   |   |--- class: 0\n",
            "|   |   |   |--- age >  30.00\n",
            "|   |   |   |   |--- class: 1\n",
            "|   |--- inst_plans_A143 >  0.50\n",
            "|   |   |--- age <= 23.50\n",
            "|   |   |   |--- savings_acc_A61 <= 0.50\n",
            "|   |   |   |   |--- class: 0\n",
            "|   |   |   |--- savings_acc_A61 >  0.50\n",
            "|   |   |   |   |--- class: 1\n",
            "|   |   |--- age >  23.50\n",
            "|   |   |   |--- amount <= 4458.50\n",
            "|   |   |   |   |--- class: 0\n",
            "|   |   |   |--- amount >  4458.50\n",
            "|   |   |   |   |--- class: 0\n",
            "\n"
          ]
        }
      ],
      "source": [
        "features = X.columns[:36].tolist()\n",
        "print(tree.export_text(dtc_model, feature_names=features))"
      ]
    }
  ],
  "metadata": {
    "colab": {
      "collapsed_sections": [],
      "name": "Lab-4_ex1.ipynb",
      "provenance": []
    },
    "interpreter": {
      "hash": "b3ba2566441a7c06988d0923437866b63cedc61552a5af99d1f4fb67d367b25f"
    },
    "kernelspec": {
      "display_name": "Python 3.9.7 ('base')",
      "language": "python",
      "name": "python3"
    },
    "language_info": {
      "codemirror_mode": {
        "name": "ipython",
        "version": 3
      },
      "file_extension": ".py",
      "mimetype": "text/x-python",
      "name": "python",
      "nbconvert_exporter": "python",
      "pygments_lexer": "ipython3",
      "version": "3.8.10"
    },
    "orig_nbformat": 4
  },
  "nbformat": 4,
  "nbformat_minor": 0
}
