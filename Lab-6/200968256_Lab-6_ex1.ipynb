{
 "cells": [
  {
   "cell_type": "markdown",
   "metadata": {},
   "source": [
    "# Lab-6:\n",
    "## Exercise-1:"
   ]
  },
  {
   "cell_type": "markdown",
   "metadata": {},
   "source": [
    "> Importing necessary libraries:"
   ]
  },
  {
   "cell_type": "code",
   "execution_count": 1,
   "metadata": {},
   "outputs": [],
   "source": [
    "import pandas as pd\n",
    "import numpy as np\n",
    "import matplotlib.pyplot as plt\n",
    "import seaborn as sb\n",
    "from sklearn.preprocessing import StandardScaler\n",
    "from sklearn.model_selection import train_test_split\n",
    "from sklearn.metrics import classification_report\n",
    "from sklearn.neural_network import MLPClassifier\n",
    "sb.set_theme()"
   ]
  },
  {
   "cell_type": "markdown",
   "metadata": {},
   "source": [
    "#### Question-1: Write down the meta information about the “wine.csv” data file available in the UCI repository, https://archive.ics.uci.edu/ml/datasets/Wine."
   ]
  },
  {
   "cell_type": "markdown",
   "metadata": {},
   "source": [
    "> #### Meta Data:\n",
    "> These data are the results of a chemical analysis of wines grown in the same region in Italy but derived from three different cultivars. The analysis determined the quantities of 13 constituents found in each of the three types of wines.\n",
    ">\n",
    ">I think that the initial data set had around 30 variables, but for some reason I only have the 13 dimensional version. I had a list of what the 30 or so variables were, but a.) I lost it, and b , I would not know which 13 variables are included in the set.\n",
    ">\n",
    "> The attributes are (dontated by Riccardo Leardi, riclea '@' anchem.unige.it )\n",
    "> 1) Alcohol\n",
    "> 2) Malic acid\n",
    "> 3) Ash\n",
    "> 4) Alcalinity of ash\n",
    "> 5) Magnesium\n",
    "> 6) Total phenols\n",
    "> 7) Flavanoids\n",
    "> 8) Nonflavanoid phenols\n",
    "> 9) Proanthocyanins\n",
    "> 10)Color intensity\n",
    "> 11)Hue\n",
    "> 12)OD280/OD315 of diluted wines\n",
    "> |13)Proline\n",
    ">\n",
    ">."
   ]
  },
  {
   "cell_type": "code",
   "execution_count": 2,
   "metadata": {},
   "outputs": [
    {
     "data": {
      "text/html": [
       "<div>\n",
       "<style scoped>\n",
       "    .dataframe tbody tr th:only-of-type {\n",
       "        vertical-align: middle;\n",
       "    }\n",
       "\n",
       "    .dataframe tbody tr th {\n",
       "        vertical-align: top;\n",
       "    }\n",
       "\n",
       "    .dataframe thead th {\n",
       "        text-align: right;\n",
       "    }\n",
       "</style>\n",
       "<table border=\"1\" class=\"dataframe\">\n",
       "  <thead>\n",
       "    <tr style=\"text-align: right;\">\n",
       "      <th></th>\n",
       "      <th>Class</th>\n",
       "      <th>Alcohol</th>\n",
       "      <th>Malic acid</th>\n",
       "      <th>Ash</th>\n",
       "      <th>Alcalinity of ash</th>\n",
       "      <th>Magnesium</th>\n",
       "      <th>Total phenols</th>\n",
       "      <th>Flavanoids</th>\n",
       "      <th>Nonflavanoid phenols</th>\n",
       "      <th>Proanthocyanins</th>\n",
       "      <th>Color intensity</th>\n",
       "      <th>Hue</th>\n",
       "      <th>OD280/OD315 of diluted wines</th>\n",
       "      <th>Proline</th>\n",
       "    </tr>\n",
       "  </thead>\n",
       "  <tbody>\n",
       "    <tr>\n",
       "      <th>0</th>\n",
       "      <td>1</td>\n",
       "      <td>14.23</td>\n",
       "      <td>1.71</td>\n",
       "      <td>2.43</td>\n",
       "      <td>15.6</td>\n",
       "      <td>127</td>\n",
       "      <td>2.80</td>\n",
       "      <td>3.06</td>\n",
       "      <td>0.28</td>\n",
       "      <td>2.29</td>\n",
       "      <td>5.64</td>\n",
       "      <td>1.04</td>\n",
       "      <td>3.92</td>\n",
       "      <td>1065</td>\n",
       "    </tr>\n",
       "    <tr>\n",
       "      <th>1</th>\n",
       "      <td>1</td>\n",
       "      <td>13.20</td>\n",
       "      <td>1.78</td>\n",
       "      <td>2.14</td>\n",
       "      <td>11.2</td>\n",
       "      <td>100</td>\n",
       "      <td>2.65</td>\n",
       "      <td>2.76</td>\n",
       "      <td>0.26</td>\n",
       "      <td>1.28</td>\n",
       "      <td>4.38</td>\n",
       "      <td>1.05</td>\n",
       "      <td>3.40</td>\n",
       "      <td>1050</td>\n",
       "    </tr>\n",
       "    <tr>\n",
       "      <th>2</th>\n",
       "      <td>1</td>\n",
       "      <td>13.16</td>\n",
       "      <td>2.36</td>\n",
       "      <td>2.67</td>\n",
       "      <td>18.6</td>\n",
       "      <td>101</td>\n",
       "      <td>2.80</td>\n",
       "      <td>3.24</td>\n",
       "      <td>0.30</td>\n",
       "      <td>2.81</td>\n",
       "      <td>5.68</td>\n",
       "      <td>1.03</td>\n",
       "      <td>3.17</td>\n",
       "      <td>1185</td>\n",
       "    </tr>\n",
       "    <tr>\n",
       "      <th>3</th>\n",
       "      <td>1</td>\n",
       "      <td>14.37</td>\n",
       "      <td>1.95</td>\n",
       "      <td>2.50</td>\n",
       "      <td>16.8</td>\n",
       "      <td>113</td>\n",
       "      <td>3.85</td>\n",
       "      <td>3.49</td>\n",
       "      <td>0.24</td>\n",
       "      <td>2.18</td>\n",
       "      <td>7.80</td>\n",
       "      <td>0.86</td>\n",
       "      <td>3.45</td>\n",
       "      <td>1480</td>\n",
       "    </tr>\n",
       "    <tr>\n",
       "      <th>4</th>\n",
       "      <td>1</td>\n",
       "      <td>13.24</td>\n",
       "      <td>2.59</td>\n",
       "      <td>2.87</td>\n",
       "      <td>21.0</td>\n",
       "      <td>118</td>\n",
       "      <td>2.80</td>\n",
       "      <td>2.69</td>\n",
       "      <td>0.39</td>\n",
       "      <td>1.82</td>\n",
       "      <td>4.32</td>\n",
       "      <td>1.04</td>\n",
       "      <td>2.93</td>\n",
       "      <td>735</td>\n",
       "    </tr>\n",
       "  </tbody>\n",
       "</table>\n",
       "</div>"
      ],
      "text/plain": [
       "   Class  Alcohol  Malic acid   Ash  Alcalinity of ash  Magnesium  \\\n",
       "0      1    14.23        1.71  2.43               15.6        127   \n",
       "1      1    13.20        1.78  2.14               11.2        100   \n",
       "2      1    13.16        2.36  2.67               18.6        101   \n",
       "3      1    14.37        1.95  2.50               16.8        113   \n",
       "4      1    13.24        2.59  2.87               21.0        118   \n",
       "\n",
       "   Total phenols  Flavanoids  Nonflavanoid phenols  Proanthocyanins  \\\n",
       "0           2.80        3.06                  0.28             2.29   \n",
       "1           2.65        2.76                  0.26             1.28   \n",
       "2           2.80        3.24                  0.30             2.81   \n",
       "3           3.85        3.49                  0.24             2.18   \n",
       "4           2.80        2.69                  0.39             1.82   \n",
       "\n",
       "   Color intensity   Hue  OD280/OD315 of diluted wines  Proline   \n",
       "0             5.64  1.04                          3.92      1065  \n",
       "1             4.38  1.05                          3.40      1050  \n",
       "2             5.68  1.03                          3.17      1185  \n",
       "3             7.80  0.86                          3.45      1480  \n",
       "4             4.32  1.04                          2.93       735  "
      ]
     },
     "execution_count": 2,
     "metadata": {},
     "output_type": "execute_result"
    }
   ],
   "source": [
    "wine = pd.read_csv('wine.csv')\n",
    "wine.head()"
   ]
  },
  {
   "cell_type": "code",
   "execution_count": 3,
   "metadata": {},
   "outputs": [
    {
     "data": {
      "text/plain": [
       "Class                           0\n",
       "Alcohol                         0\n",
       "Malic acid                      0\n",
       "Ash                             0\n",
       "Alcalinity of ash               0\n",
       "Magnesium                       0\n",
       "Total phenols                   0\n",
       "Flavanoids                      0\n",
       "Nonflavanoid phenols            0\n",
       "Proanthocyanins                 0\n",
       "Color intensity                 0\n",
       "Hue                             0\n",
       "OD280/OD315 of diluted wines    0\n",
       "Proline                         0\n",
       "dtype: int64"
      ]
     },
     "execution_count": 3,
     "metadata": {},
     "output_type": "execute_result"
    }
   ],
   "source": [
    "wine.isna().sum()"
   ]
  },
  {
   "cell_type": "markdown",
   "metadata": {},
   "source": [
    "#### Question-2: Tabulate and visualize the distribution of the numeric variables."
   ]
  },
  {
   "cell_type": "code",
   "execution_count": 4,
   "metadata": {},
   "outputs": [
    {
     "data": {
      "image/png": "[encoded data removed]",
      "text/plain": [
       "<Figure size 1440x360 with 14 Axes>"
      ]
     },
     "metadata": {},
     "output_type": "display_data"
    }
   ],
   "source": [
    "fig, axes = plt.subplots(2,7, figsize=(20,5))\n",
    "fig.suptitle(\"Visualizing all the numerical variables\")\n",
    "counter = 1\n",
    "for i in range(2):\n",
    "    for j in range(7):\n",
    "        if i == 1 and j == 6:\n",
    "            break\n",
    "        if counter%2==0:\n",
    "            sb.kdeplot(ax=axes[i,j],data=wine, x=wine[wine.columns[counter]], shade=True, color='orange')\n",
    "        else:\n",
    "            sb.kdeplot(ax=axes[i,j],data=wine, x=wine[wine.columns[counter]], shade=True, color='green')\n",
    "        if counter<13:\n",
    "            counter=counter+1\n",
    "\n",
    "plt.subplots_adjust(left=0.1,\n",
    "                    bottom=0.2, \n",
    "                    right=1.0, \n",
    "                    top=0.9, \n",
    "                    wspace=0.4, \n",
    "                    hspace=0.4)\n"
   ]
  },
  {
   "cell_type": "markdown",
   "metadata": {},
   "source": [
    "#### Question-3: Perform  the  required  preprocessing  ,  70,30  split  and  build  a  classifier  using  the Multi-Layer  Perceptron  Classifier  model  available  in  SciKit  Learn.  Use  3  layers with  the  same  number  of  neurons  as  there  are  features  along  with  500  max iterations."
   ]
  },
  {
   "cell_type": "code",
   "execution_count": 5,
   "metadata": {},
   "outputs": [],
   "source": [
    "X = wine.drop('Class', axis=1)\n",
    "y = wine['Class']"
   ]
  },
  {
   "cell_type": "markdown",
   "metadata": {},
   "source": [
    "> Scaling the data:"
   ]
  },
  {
   "cell_type": "code",
   "execution_count": 6,
   "metadata": {},
   "outputs": [],
   "source": [
    "sc = StandardScaler()"
   ]
  },
  {
   "cell_type": "code",
   "execution_count": 7,
   "metadata": {},
   "outputs": [],
   "source": [
    "X = pd.DataFrame(sc.fit_transform(X))"
   ]
  },
  {
   "cell_type": "markdown",
   "metadata": {},
   "source": [
    "> Splitting the dataset into training and testing:"
   ]
  },
  {
   "cell_type": "code",
   "execution_count": 8,
   "metadata": {},
   "outputs": [],
   "source": [
    "X_train, X_test, y_train, y_test = train_test_split(X,y, random_state=42, test_size=0.3)"
   ]
  },
  {
   "cell_type": "markdown",
   "metadata": {},
   "source": [
    "> Building the MLP Classifier model:"
   ]
  },
  {
   "cell_type": "code",
   "execution_count": 9,
   "metadata": {},
   "outputs": [],
   "source": [
    "clf = MLPClassifier(hidden_layer_sizes=(13,13,13), max_iter=500)\n",
    "model = clf.fit(X=X_train, y=y_train)"
   ]
  },
  {
   "cell_type": "markdown",
   "metadata": {},
   "source": [
    "> Predicting values for the test data"
   ]
  },
  {
   "cell_type": "code",
   "execution_count": 10,
   "metadata": {},
   "outputs": [],
   "source": [
    "y_pred = model.predict(X_test)"
   ]
  },
  {
   "cell_type": "markdown",
   "metadata": {},
   "source": [
    "#### Question-4: Tabulate the precision, recall and F1-score."
   ]
  },
  {
   "cell_type": "code",
   "execution_count": 11,
   "metadata": {},
   "outputs": [
    {
     "name": "stdout",
     "output_type": "stream",
     "text": [
      "              precision    recall  f1-score   support\n",
      "\n",
      "           1       1.00      1.00      1.00        19\n",
      "           2       1.00      1.00      1.00        21\n",
      "           3       1.00      1.00      1.00        14\n",
      "\n",
      "    accuracy                           1.00        54\n",
      "   macro avg       1.00      1.00      1.00        54\n",
      "weighted avg       1.00      1.00      1.00        54\n",
      "\n"
     ]
    }
   ],
   "source": [
    "print(classification_report(y_true=y_test, y_pred=y_pred))"
   ]
  },
  {
   "cell_type": "markdown",
   "metadata": {},
   "source": [
    "#### Question-5: Display the  MLP weights and biases after training your model."
   ]
  },
  {
   "cell_type": "markdown",
   "metadata": {},
   "source": [
    "> MLP weights:"
   ]
  },
  {
   "cell_type": "code",
   "execution_count": 12,
   "metadata": {},
   "outputs": [
    {
     "data": {
      "text/plain": [
       "[array([[ 0.35988912,  0.10890992,  0.32573461, -0.47567819, -0.17393021,\n",
       "         -0.2491894 , -0.144055  , -0.31839401, -0.30364491, -0.40945675,\n",
       "         -0.49809609, -0.09982657,  0.41003304],\n",
       "        [ 0.34103056,  0.45133855, -0.42169774, -0.27820645,  0.52333026,\n",
       "          0.32607868,  0.16460178, -0.07364047, -0.33361823,  0.21660173,\n",
       "         -0.58666191, -0.11811993, -0.27465125],\n",
       "        [-0.1640064 ,  0.12268165,  0.12375175, -0.40848951, -0.38937477,\n",
       "          0.17760778,  0.17391893,  0.27996471,  0.30090722, -0.57860481,\n",
       "          0.26956295, -0.4610841 ,  0.2135374 ],\n",
       "        [ 0.61941318, -0.21823023,  0.55016408, -0.25744861,  0.20865695,\n",
       "          0.26662859,  0.16599262,  0.07809986, -0.24232647, -0.24420523,\n",
       "         -0.22087221,  0.07448695, -0.20860792],\n",
       "        [-0.02181136,  0.24050008,  0.10398619,  0.18050146, -0.40600323,\n",
       "         -0.59504381, -0.39251304,  0.26127817, -0.27112996, -0.5045333 ,\n",
       "         -0.09417553,  0.0879455 ,  0.08917542],\n",
       "        [-0.3241613 , -0.19775526, -0.34083298, -0.52228164, -0.54911489,\n",
       "         -0.26425616,  0.20906874, -0.37144259,  0.17796717, -0.03536338,\n",
       "         -0.38616254,  0.2097061 , -0.09054366],\n",
       "        [-0.49860363, -0.09815453,  0.22546091, -0.32176269, -0.57356136,\n",
       "          0.03379417, -0.16017417, -0.28473953,  0.47959465, -0.05130204,\n",
       "          0.14723839,  0.32010741, -0.27194536],\n",
       "        [ 0.4387586 ,  0.02150201,  0.15444516,  0.52958762, -0.00559701,\n",
       "          0.4465365 ,  0.1788939 , -0.36087808,  0.12733009,  0.41803586,\n",
       "         -0.13977153,  0.05340061,  0.13841366],\n",
       "        [-0.65623358, -0.17105903,  0.45669127,  0.11797789,  0.09573221,\n",
       "          0.46185982, -0.51187751,  0.32295341, -0.2410549 ,  0.05533314,\n",
       "          0.18740194,  0.00397388,  0.44059975],\n",
       "        [-0.1056311 ,  0.2828384 , -0.5522089 , -0.5461538 ,  0.52791901,\n",
       "          0.07860624, -0.24826713, -0.39776124,  0.43845896,  0.19803248,\n",
       "         -0.35665611, -0.44731769,  0.04943539],\n",
       "        [-0.65619547, -0.01465126,  0.65146599,  0.4821072 , -0.54970795,\n",
       "          0.09736629, -0.29245107,  0.25921582,  0.49616821,  0.10452632,\n",
       "          0.11826387,  0.3647139 ,  0.1769975 ],\n",
       "        [-0.51844822,  0.45138289, -0.05594805, -0.11794777, -0.37635066,\n",
       "          0.37094707,  0.17281294,  0.51067185,  0.2918186 ,  0.10233692,\n",
       "          0.12062509, -0.14843548, -0.16145924],\n",
       "        [-0.24165834,  0.34599719, -0.24410138, -0.31815838, -0.33089647,\n",
       "          0.19323816, -0.69628316, -0.47757996,  0.57627053,  0.00262265,\n",
       "         -0.41629189, -0.00318141,  0.29787752]]),\n",
       " array([[ 1.38821446e-01, -3.87148375e-01, -2.89258759e-01,\n",
       "         -1.86500589e-01,  1.09504213e-01,  3.63927148e-02,\n",
       "          6.76112135e-01, -1.64154758e-02, -2.58461125e-04,\n",
       "         -2.25614502e-01,  6.30866391e-01, -9.25127041e-02,\n",
       "         -1.37141426e-02],\n",
       "        [ 3.74406969e-01,  1.67576282e-01, -2.36325792e-01,\n",
       "         -4.43203479e-02, -2.34889107e-01,  2.47948142e-01,\n",
       "         -2.18666539e-01,  3.94939511e-01, -1.28693591e-02,\n",
       "          5.16033062e-01,  4.49736236e-01, -4.11073038e-01,\n",
       "         -3.56099839e-01],\n",
       "        [ 2.61003266e-01,  4.66747930e-01, -2.64490845e-02,\n",
       "         -1.44305610e-02,  9.58965057e-02, -7.80940166e-02,\n",
       "         -7.81548949e-02,  2.46454254e-01,  1.25947513e-01,\n",
       "          3.02018239e-01, -1.79747787e-01,  7.31786081e-01,\n",
       "          6.27116779e-01],\n",
       "        [-4.25928079e-01,  5.69371469e-02,  2.58846878e-01,\n",
       "         -1.28707428e-01, -3.38692453e-02, -2.49770848e-02,\n",
       "          6.51576654e-02, -3.78128442e-01, -1.30496620e-01,\n",
       "         -2.91129146e-01,  4.70602521e-01,  2.25640245e-01,\n",
       "          1.74997284e-01],\n",
       "        [ 1.91539672e-01, -1.35634154e-02,  3.24462341e-01,\n",
       "          1.45650507e-01, -3.15384000e-01, -4.22199903e-01,\n",
       "          3.58713218e-01,  4.84066227e-01, -1.68711168e-01,\n",
       "         -1.62971916e-01,  4.91536485e-01, -3.27473077e-01,\n",
       "          5.46168311e-01],\n",
       "        [-3.33866853e-01,  5.19468530e-01,  3.35255703e-01,\n",
       "         -8.42935602e-02,  9.49949649e-02,  3.57726001e-01,\n",
       "         -4.25172263e-01, -8.22414751e-02, -4.92305976e-02,\n",
       "          7.62679534e-01,  1.16546240e-01,  4.94478944e-01,\n",
       "          5.10481330e-01],\n",
       "        [-1.08856737e-01,  4.83442962e-01, -5.38842468e-01,\n",
       "         -6.53229974e-04,  5.77666426e-01, -1.42415683e-01,\n",
       "          4.67263580e-01, -2.74568782e-01, -1.12090840e-02,\n",
       "          4.01975269e-01,  5.88095276e-01,  3.00560979e-01,\n",
       "         -3.89888456e-02],\n",
       "        [ 5.00031012e-01,  4.48017729e-01, -3.90812508e-01,\n",
       "         -1.51371359e-01,  4.49744458e-01,  4.10128161e-01,\n",
       "         -4.79692171e-02, -1.19556892e-01, -4.54104526e-01,\n",
       "          2.72132968e-01,  1.70728725e-01, -3.19243745e-02,\n",
       "          3.22194937e-01],\n",
       "        [ 1.49582937e-01,  1.83543884e-01,  2.85911692e-01,\n",
       "         -1.59575967e-03,  1.41332877e-01, -4.14251049e-01,\n",
       "         -5.76414826e-01,  6.13630204e-01, -1.31168814e-01,\n",
       "          4.27416989e-01,  2.71081432e-01,  1.27778234e-01,\n",
       "         -1.60730630e-01],\n",
       "        [ 2.41971486e-01,  3.42325380e-01, -4.45681445e-01,\n",
       "         -6.86651210e-04,  2.76401543e-01,  1.24699441e-02,\n",
       "          4.34861980e-01, -1.90839527e-01, -6.31870646e-10,\n",
       "          5.99049054e-01,  5.83654643e-01,  6.25839767e-01,\n",
       "          5.93594057e-01],\n",
       "        [-3.04588273e-01,  3.19428048e-01, -1.74162543e-01,\n",
       "         -7.30911096e-11,  4.39254900e-01,  1.48844959e-01,\n",
       "          7.96282918e-02,  6.98065810e-03, -6.49894948e-02,\n",
       "         -2.26054348e-01, -2.76416884e-01, -1.63927780e-01,\n",
       "          5.12455267e-01],\n",
       "        [ 2.94141250e-01,  5.14128411e-01,  1.81382351e-01,\n",
       "         -1.35600507e-02,  2.05269918e-01, -3.04052904e-02,\n",
       "         -6.06944749e-01, -2.05897324e-01,  2.50868296e-01,\n",
       "          1.24352006e-01,  5.64208773e-02,  2.61015494e-01,\n",
       "         -4.96749505e-02],\n",
       "        [ 9.18424418e-02, -2.02469085e-01, -4.04662511e-01,\n",
       "          4.26022581e-02, -6.35889171e-01, -2.70037927e-01,\n",
       "          7.16395744e-01,  6.16921564e-01, -2.59250914e-01,\n",
       "          2.44098700e-01, -2.67477286e-01, -1.36900937e-01,\n",
       "         -4.60945833e-01]]),\n",
       " array([[ 3.07061534e-01, -3.96728303e-02, -1.48908373e-01,\n",
       "          3.51402508e-01,  6.83729359e-01,  1.37812675e-01,\n",
       "         -1.94949334e-01,  4.28489528e-01, -2.57096903e-01,\n",
       "          3.18728628e-01,  4.22013981e-01, -1.61600157e-01,\n",
       "          2.52734617e-01],\n",
       "        [ 4.41940627e-01, -1.77131109e-06, -6.11883827e-02,\n",
       "          2.21783860e-01, -7.08472786e-01,  9.94197039e-02,\n",
       "          1.90414295e-02, -3.23659585e-02,  5.21644404e-01,\n",
       "          3.15965775e-01,  3.02014157e-01,  1.29365130e-01,\n",
       "          1.85390008e-01],\n",
       "        [ 9.71832232e-02,  3.07055810e-02, -2.85990421e-01,\n",
       "          1.90271298e-01, -8.78612975e-02,  4.24071943e-01,\n",
       "         -1.79268994e-01,  3.40005629e-01, -3.50016401e-01,\n",
       "         -1.13836253e-01, -2.12160987e-01,  5.45923026e-08,\n",
       "          3.56934651e-01],\n",
       "        [-1.53003341e-01,  9.85083689e-02, -2.20834316e-02,\n",
       "         -1.02066272e-01,  8.80570660e-02, -1.59865067e-02,\n",
       "         -9.99169025e-02,  1.46831606e-05,  1.48717752e-01,\n",
       "          4.82411023e-03, -1.04771142e-01,  7.77930154e-02,\n",
       "          4.00305563e-02],\n",
       "        [ 6.10576464e-01, -6.57572312e-02, -3.38796182e-01,\n",
       "          9.72601610e-02, -3.12689818e-01,  2.80945485e-01,\n",
       "         -3.78434236e-02, -3.08315560e-01,  3.01649069e-01,\n",
       "          1.53582055e-01,  6.25184975e-01,  3.69253398e-01,\n",
       "          7.03080093e-02],\n",
       "        [ 1.97856000e-01,  1.91492668e-01,  2.24297154e-01,\n",
       "          1.32918712e-01,  1.76990701e-01, -7.28844387e-03,\n",
       "         -1.57082710e-01,  7.34726904e-02, -2.60654610e-01,\n",
       "          2.84466508e-01,  2.73031860e-01,  3.26311305e-02,\n",
       "          6.26713093e-02],\n",
       "        [ 5.31107150e-01, -5.29082732e-02, -3.40669166e-01,\n",
       "          7.43815468e-02,  5.55545762e-01, -1.81573740e-03,\n",
       "         -7.79936195e-02, -2.17772416e-01, -4.17621338e-01,\n",
       "         -4.46819505e-01, -3.44236897e-02, -1.53095078e-02,\n",
       "         -1.50532342e-10],\n",
       "        [-2.17006371e-01,  2.01896466e-03,  6.12371497e-01,\n",
       "          3.74404787e-01,  4.26867940e-01, -1.51150176e-01,\n",
       "          1.73476321e-02,  4.00327183e-01, -5.98412949e-01,\n",
       "          4.16588221e-01, -4.30794421e-01, -6.83475734e-02,\n",
       "         -4.28175515e-01],\n",
       "        [-2.57669636e-01, -3.93359141e-03,  2.38407491e-08,\n",
       "         -1.53133358e-01, -5.31942238e-08,  8.07297958e-02,\n",
       "          2.31895938e-05,  1.15327061e-01, -3.44546028e-02,\n",
       "         -8.45513044e-02, -1.37613996e-01, -1.06735110e-06,\n",
       "         -2.15454129e-03],\n",
       "        [-3.34892879e-01,  8.47756735e-05,  5.50341687e-01,\n",
       "          2.49507776e-01,  1.28448029e-01,  1.74026338e-01,\n",
       "          1.78796453e-02,  6.00197320e-01,  3.15301673e-01,\n",
       "          2.36488008e-01, -3.31197311e-01, -1.72604382e-02,\n",
       "         -2.77031010e-01],\n",
       "        [ 1.79714461e-01, -2.17251085e-01,  2.70436010e-02,\n",
       "         -1.65084159e-01,  5.44114474e-01, -1.66023264e-01,\n",
       "          1.77481517e-07, -6.07671684e-02,  2.54183812e-01,\n",
       "          5.85566893e-02, -1.60638222e-01,  3.83834185e-03,\n",
       "         -4.07958701e-01],\n",
       "        [ 1.80647264e-01,  6.81761082e-02,  1.31099428e-01,\n",
       "          1.56704352e-01, -7.19932067e-01,  6.03459338e-01,\n",
       "         -8.50448479e-02,  1.81635366e-02,  3.70743344e-01,\n",
       "          1.61006298e-02,  6.92648938e-02,  1.43688889e-01,\n",
       "         -2.06820584e-01],\n",
       "        [ 6.52084205e-01, -1.36196330e-01, -2.02348698e-01,\n",
       "         -4.21049774e-01, -6.52627217e-02,  3.62443613e-01,\n",
       "         -1.88532879e-01, -2.59187149e-01,  2.94034271e-01,\n",
       "         -3.63396756e-01,  3.88556403e-01, -1.57578147e-02,\n",
       "         -4.33550797e-01]]),\n",
       " array([[-0.60413016,  0.32719521,  0.09721589],\n",
       "        [ 0.19317011,  0.00119644,  0.29231602],\n",
       "        [ 0.78880663, -0.51123518, -0.67790942],\n",
       "        [ 0.68815281, -0.60409781, -0.11503047],\n",
       "        [ 0.16813356, -0.27823373,  0.61045692],\n",
       "        [-0.39313388,  0.28565013, -0.76826724],\n",
       "        [-0.18614678,  0.2058511 ,  0.32897919],\n",
       "        [ 0.89863259, -0.04366453,  0.17697466],\n",
       "        [-0.5560298 ,  0.43136325, -0.44933463],\n",
       "        [ 0.22560458, -0.47705003, -0.67485536],\n",
       "        [ 0.15368851,  0.76911575,  0.31391721],\n",
       "        [-0.38069285,  0.28782565, -0.35576822],\n",
       "        [-0.0078237 ,  0.43290639, -0.23216596]])]"
      ]
     },
     "execution_count": 12,
     "metadata": {},
     "output_type": "execute_result"
    }
   ],
   "source": [
    "clf.coefs_"
   ]
  },
  {
   "cell_type": "markdown",
   "metadata": {},
   "source": [
    "> MLP Biases:"
   ]
  },
  {
   "cell_type": "code",
   "execution_count": 13,
   "metadata": {},
   "outputs": [
    {
     "data": {
      "text/plain": [
       "[array([ 0.56598942,  0.50264152,  0.38652921,  0.3933218 , -0.12771044,\n",
       "        -0.17719737,  0.10920944,  0.27295898, -0.00799373,  0.00351555,\n",
       "        -0.04449742,  0.4161102 ,  0.61884071]),\n",
       " array([ 0.27516438,  0.41357526,  0.02127571, -0.40647263, -0.20380513,\n",
       "         0.33142945,  0.04560153, -0.13277429, -0.52001236,  0.28728285,\n",
       "         0.65837033,  0.36621491,  0.47565243]),\n",
       " array([-0.10979874, -0.45830685,  0.22337665,  0.39636129,  0.2469651 ,\n",
       "        -0.06998133, -0.43385398, -0.2341976 , -0.15600824,  0.32185341,\n",
       "        -0.12190786,  0.07291171, -0.18840729]),\n",
       " array([ 0.42095265,  0.0397315 , -0.28948124])]"
      ]
     },
     "execution_count": 13,
     "metadata": {},
     "output_type": "execute_result"
    }
   ],
   "source": [
    "clf.intercepts_"
   ]
  }
 ],
 "metadata": {
  "interpreter": {
   "hash": "b3ba2566441a7c06988d0923437866b63cedc61552a5af99d1f4fb67d367b25f"
  },
  "kernelspec": {
   "display_name": "Python 3.9.7 ('base')",
   "language": "python",
   "name": "python3"
  },
  "language_info": {
   "codemirror_mode": {
    "name": "ipython",
    "version": 3
   },
   "file_extension": ".py",
   "mimetype": "text/x-python",
   "name": "python",
   "nbconvert_exporter": "python",
   "pygments_lexer": "ipython3",
   "version": "3.8.10"
  },
  "orig_nbformat": 4
 },
 "nbformat": 4,
 "nbformat_minor": 2
}
